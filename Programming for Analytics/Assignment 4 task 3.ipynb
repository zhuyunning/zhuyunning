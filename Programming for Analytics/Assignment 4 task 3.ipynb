{
 "cells": [
  {
   "cell_type": "code",
   "execution_count": null,
   "metadata": {
    "collapsed": true
   },
   "outputs": [],
   "source": [
    "#Task 4"
   ]
  },
  {
   "cell_type": "markdown",
   "metadata": {},
   "source": [
    "The process for the stream frame-work is as follows :\n",
    "\n",
    "1.\tAn activity is first defined, the activity basically has the following\n",
    "a.\tUser Id \n",
    "b.\tVerb : What is the action : Tweeting , liking etc.\n",
    "c.\tContent : The actual tweet/post\n",
    "d.\tAny extra information regarding the activity\n",
    "\n",
    "2.\t Two feeds are then created – One the user’s personal feed and the Redis feed where all the followed tweets are stored.\n",
    "\n",
    "3.\tFinally the activity is then sent to all the followers , the process is called FanOut using the manager class.\n",
    "Now Stream-Frame work uses cerly to do the fanout operations. Cerly has two queues, one which is the high priority and the 2nd is the low priority. Active users are assigned the high priority.\n"
   ]
  },
  {
   "cell_type": "code",
   "execution_count": null,
   "metadata": {
    "collapsed": true
   },
   "outputs": [],
   "source": [
    "def create_activity(pin):\n",
    "    from stream_framework.activity import Activity\n",
    "    activity=Activity(Pin.user_id,PinVerb,pin.id,pin.influncer_id,\n",
    "                     time=make_naive(pin.created_at,pytz.utc),\n",
    "                     extra_contexts=dict(item_id=pin.item_id))\n",
    "    return activity"
   ]
  },
  {
   "cell_type": "code",
   "execution_count": null,
   "metadata": {
    "collapsed": true
   },
   "outputs": [],
   "source": [
    "from stream_framework.feeds.redis import RedisFeed\n",
    "class PinFeed(RedisFeed):\n",
    "    key_format='feed:normal:%(user_id)s'\n",
    "class PinFeed(RedisFeed):\n",
    "    key_format='feed:user:%(user_id)s'    "
   ]
  },
  {
   "cell_type": "code",
   "execution_count": null,
   "metadata": {
    "collapsed": true
   },
   "outputs": [],
   "source": [
    "from stream_framework.feed_managers.base import Manager\n",
    "class PinManager(Manager):\n",
    "    feed_classes=dict(normal=PinFeed,)\n",
    "    user_feed_class=UserPinFeed\n",
    "    \n",
    "    def add_pin(self,pin):\n",
    "        activity=pin.create_activity()\n",
    "        self.add_user_activity(pin.user_id,activity)\n",
    "        \n",
    "    def get_user_follower_ids(self,user_id):\n",
    "        ids=Follow.objects.filter(target=user_id).value_list('user_id',flat=True)\n",
    "        return {FanoutPriority.HIGH:ids}\n",
    "manager=PinManager()"
   ]
  },
  {
   "cell_type": "markdown",
   "metadata": {},
   "source": [
    "The Redis store is nothing but a message box,i.e. a message storage for every user. Whenever required each user gets all its messages from Redis.\n",
    "\n",
    "Source : http://thenewstack.io/building-scalable-news-feed-applications-using-redis-and-cassandra/\n"
   ]
  }
 ],
 "metadata": {
  "kernelspec": {
   "display_name": "Python 3",
   "language": "python",
   "name": "python3"
  },
  "language_info": {
   "codemirror_mode": {
    "name": "ipython",
    "version": 3
   },
   "file_extension": ".py",
   "mimetype": "text/x-python",
   "name": "python",
   "nbconvert_exporter": "python",
   "pygments_lexer": "ipython3",
   "version": "3.5.2"
  }
 },
 "nbformat": 4,
 "nbformat_minor": 1
}
