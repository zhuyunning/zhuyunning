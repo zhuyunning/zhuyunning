{
 "cells": [
  {
   "cell_type": "markdown",
   "metadata": {},
   "source": [
    "Task 1\n",
    "Use tweepy and the twitter search terms “Clinton” and “Trump” and the respective states (or the geolocation search option) to provide the required output."
   ]
  },
  {
   "cell_type": "code",
   "execution_count": 1,
   "metadata": {
    "collapsed": false
   },
   "outputs": [],
   "source": [
    "import tweepy\n",
    "from tweepy import OAuthHandler\n",
    "from textblob import TextBlob\n",
    "import matplotlib.pyplot as plt\n",
    "import numpy as np\n",
    "import pandas as pd"
   ]
  },
  {
   "cell_type": "code",
   "execution_count": 2,
   "metadata": {
    "collapsed": false
   },
   "outputs": [],
   "source": [
    "def getTwitterData(searchTerm,code,filename):\n",
    "    \n",
    "    CONSUMER_KEY = 'mcHg73LXHcUtYfg6MYlTGvovU'\n",
    "    CONSUMER_SECRET = 'vieVDcxAFhFTltTnLUzoZRuwG6QryXFnFtItTqKerHYaWASumK'\n",
    "    OAUTH_TOKEN = '785603734495596544-OqeUxehteJnMqVw9MfYSDMPXcDatLmV'\n",
    "    OAUTH_TOKEN_SECRET = 'fGQ3162mmYMQHc9qo1rpZoLyyKfe4r77H0bnPegiFC1aY'\n",
    "    \n",
    "    #gain access to twitter API\n",
    "    auth = tweepy.OAuthHandler(CONSUMER_KEY, CONSUMER_SECRET) \n",
    "    auth.set_access_token(OAUTH_TOKEN, OAUTH_TOKEN_SECRET)\n",
    "    \n",
    "    api = tweepy.API(auth)\n",
    "    \n",
    "    #use tweepy and search to get 1000 relational tweets from twitter.\n",
    "    tweets=[]\n",
    "    for tweet in tweepy.Cursor(api.search,q=searchTerm,geocode=code).items(1000):   \n",
    "        tweets.append(tweet.text)\n",
    "    \n",
    "    #translate search results into lower cases.\n",
    "    lowered_texts = []\n",
    "    for texts in tweets:\n",
    "        try: \n",
    "            mytext = str(texts.lower())\n",
    "            lowered_texts.append(mytext)\n",
    "        except:\n",
    "            pass\n",
    "    \n",
    "    #eliminate punctuation in results.\n",
    "    punctuation = \"!\\\"#$%&'()*+,-./:;<=>?@[\\\\]^_`{|}~\"\n",
    "    s_sans_punct = \"\"\n",
    "    for letter in str(lowered_texts):\n",
    "        if (letter not in punctuation) and (letter in \"abcdefghijklmnopqrstuvwxyz \"):\n",
    "            s_sans_punct += letter\n",
    "    \n",
    "    #gain polarity points.\n",
    "    sentiment=[]\n",
    "    t=TextBlob(s_sans_punct)\n",
    "    sentiment.append(t.sentiment.polarity)\n",
    "    \n",
    "    sentiment2=[]\n",
    "    score=(sentiment[0]+1)*50\n",
    "    sentiment2.append(score)\n",
    "    \n",
    "    text=[]\n",
    "    text.append(s_sans_punct)\n",
    "    \n",
    "    df=pd.DataFrame()\n",
    "    df['sentiment']=sentiment2\n",
    "    df['text']=text\n",
    "    df.to_csv(filename)\n",
    "\n",
    "    return sentiment2\n"
   ]
  },
  {
   "cell_type": "code",
   "execution_count": 4,
   "metadata": {
    "collapsed": false
   },
   "outputs": [
    {
     "data": {
      "text/plain": [
       "[51.724863342574714]"
      ]
     },
     "execution_count": 4,
     "metadata": {},
     "output_type": "execute_result"
    }
   ],
   "source": [
    "getTwitterData('Clinton','44.31,-85.60,500mi','tweepy-Clinton-Michigan.csv')"
   ]
  },
  {
   "cell_type": "code",
   "execution_count": 7,
   "metadata": {
    "collapsed": false
   },
   "outputs": [
    {
     "data": {
      "text/plain": [
       "[53.31280270884231]"
      ]
     },
     "execution_count": 7,
     "metadata": {},
     "output_type": "execute_result"
    }
   ],
   "source": [
    "getTwitterData('Clinton','38.80,-116.42,500mi','tweepy-Clinton-Nevada.csv')"
   ]
  },
  {
   "cell_type": "code",
   "execution_count": 8,
   "metadata": {
    "collapsed": false
   },
   "outputs": [
    {
     "data": {
      "text/plain": [
       "[49.61423595989374]"
      ]
     },
     "execution_count": 8,
     "metadata": {},
     "output_type": "execute_result"
    }
   ],
   "source": [
    "getTwitterData('Clinton','43.78,-88.79,500mi','tweepy-Clinton-Wisconsin.csv')"
   ]
  },
  {
   "cell_type": "code",
   "execution_count": 10,
   "metadata": {
    "collapsed": false
   },
   "outputs": [
    {
     "data": {
      "text/plain": [
       "[54.25872023796507]"
      ]
     },
     "execution_count": 10,
     "metadata": {},
     "output_type": "execute_result"
    }
   ],
   "source": [
    "getTwitterData('Clinton','40.42,-80.91,500mi','tweepy-Clinton-Ohio.csv')"
   ]
  },
  {
   "cell_type": "code",
   "execution_count": 11,
   "metadata": {
    "collapsed": false
   },
   "outputs": [
    {
     "data": {
      "text/plain": [
       "[48.54747747718815]"
      ]
     },
     "execution_count": 11,
     "metadata": {},
     "output_type": "execute_result"
    }
   ],
   "source": [
    "getTwitterData('Trump','44.31,-85.60,500mi','tweepy-Trump-Michigan.csv')"
   ]
  },
  {
   "cell_type": "code",
   "execution_count": 17,
   "metadata": {
    "collapsed": false,
    "scrolled": true
   },
   "outputs": [
    {
     "data": {
      "text/plain": [
       "[53.32468123972387]"
      ]
     },
     "execution_count": 17,
     "metadata": {},
     "output_type": "execute_result"
    }
   ],
   "source": [
    "getTwitterData('Trump','38.80,-116.42,500mi','tweepy-Trump-Nevada.csv')"
   ]
  },
  {
   "cell_type": "code",
   "execution_count": 18,
   "metadata": {
    "collapsed": false
   },
   "outputs": [
    {
     "data": {
      "text/plain": [
       "[52.176301594224824]"
      ]
     },
     "execution_count": 18,
     "metadata": {},
     "output_type": "execute_result"
    }
   ],
   "source": [
    "getTwitterData('Trump','43.78,-88.79,500mi','tweepy-Trump-Wisconsin.csv')"
   ]
  },
  {
   "cell_type": "code",
   "execution_count": 23,
   "metadata": {
    "collapsed": false
   },
   "outputs": [
    {
     "data": {
      "text/plain": [
       "[47.25224256252077]"
      ]
     },
     "execution_count": 23,
     "metadata": {},
     "output_type": "execute_result"
    }
   ],
   "source": [
    "getTwitterData('Trump','40.42,-80.91,500mi','tweepy-Trump-Ohio.csv')"
   ]
  },
  {
   "cell_type": "code",
   "execution_count": 24,
   "metadata": {
    "collapsed": true
   },
   "outputs": [],
   "source": [
    "#draw the plot.\n",
    "def plotdata_tweepy():\n",
    "    df_1=pd.read_csv('tweepy-Clinton-Michigan.csv')\n",
    "    df_2=pd.read_csv('tweepy-Clinton-Nevada.csv')\n",
    "    df_3=pd.read_csv('tweepy-Clinton-Wisconsin.csv')\n",
    "    df_4=pd.read_csv('tweepy-Clinton-Ohio.csv')\n",
    "\n",
    "    df_a=pd.read_csv('tweepy-Trump-Michigan.csv')\n",
    "    df_b=pd.read_csv('tweepy-Trump-Nevada.csv')\n",
    "    df_c=pd.read_csv('tweepy-Trump-Wisconsin.csv')\n",
    "    df_d=pd.read_csv('tweepy-Trump-Ohio.csv')\n",
    "\n",
    "    clinton=pd.DataFrame({'Michigan':df_1.loc[[0],'sentiment'],\n",
    "                          'Nevada':df_2.loc[[0],'sentiment'],\n",
    "                          'Wisconsin':df_3.loc[[0],'sentiment'],\n",
    "                          'Ohio':df_4.loc[[0],'sentiment']})\n",
    "    trump=pd.DataFrame({'Michigan':df_a.loc[[0],'sentiment'],\n",
    "                        'Nevada':df_b.loc[[0],'sentiment'],\n",
    "                        'Wisconsin':df_c.loc[[0],'sentiment'],\n",
    "                        'Ohio':df_d.loc[[0],'sentiment']})\n",
    "    All=clinton.append(trump)\n",
    "\n",
    "    All=All.T\n",
    "    All.columns = ['Clinton', 'Trump']\n",
    "    \n",
    "    plt.style.use('ggplot')\n",
    "    colors=['blue','red']\n",
    "    All.plot(kind='barh',color=colors)\n",
    "    plt.xlabel('sentiment')\n",
    "    \n",
    "    plt.title('Clinton and Trump-tweepy')\n",
    "    plt.show()\n",
    "    "
   ]
  },
  {
   "cell_type": "code",
   "execution_count": 25,
   "metadata": {
    "collapsed": false
   },
   "outputs": [
    {
     "data": {
      "image/png": "[encoded data removed]",
      "text/plain": [
       "<matplotlib.figure.Figure at 0x7f1753dd9278>"
      ]
     },
     "metadata": {},
     "output_type": "display_data"
    }
   ],
   "source": [
    "plotdata_tweepy()"
   ]
  },
  {
   "cell_type": "code",
   "execution_count": null,
   "metadata": {
    "collapsed": true
   },
   "outputs": [],
   "source": []
  }
 ],
 "metadata": {
  "anaconda-cloud": {},
  "kernelspec": {
   "display_name": "Python [default]",
   "language": "python",
   "name": "python3"
  },
  "language_info": {
   "codemirror_mode": {
    "name": "ipython",
    "version": 3
   },
   "file_extension": ".py",
   "mimetype": "text/x-python",
   "name": "python",
   "nbconvert_exporter": "python",
   "pygments_lexer": "ipython3",
   "version": "3.5.2"
  }
 },
 "nbformat": 4,
 "nbformat_minor": 1
}
