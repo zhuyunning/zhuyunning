{
 "cells": [
  {
   "cell_type": "markdown",
   "metadata": {},
   "source": [
    "Task 2\n",
    "Use twython and the twitter search terms “Clinton” and “Trump” and the respective states (or the geolocation\n",
    "search option) to provide the required output."
   ]
  },
  {
   "cell_type": "code",
   "execution_count": 1,
   "metadata": {
    "collapsed": true
   },
   "outputs": [],
   "source": [
    "import tweepy\n",
    "from tweepy import OAuthHandler\n",
    "from textblob import TextBlob\n",
    "import matplotlib.pyplot as plt\n",
    "import numpy as np\n",
    "import pandas as pd"
   ]
  },
  {
   "cell_type": "code",
   "execution_count": 2,
   "metadata": {
    "collapsed": true
   },
   "outputs": [],
   "source": [
    "from twython import Twython\n",
    "def getTwitterData(searchTerm,code,filename):\n",
    "    \n",
    "    CONSUMER_KEY = 'mcHg73LXHcUtYfg6MYlTGvovU'\n",
    "    CONSUMER_SECRET = 'vieVDcxAFhFTltTnLUzoZRuwG6QryXFnFtItTqKerHYaWASumK'\n",
    "    OAUTH_TOKEN = '785603734495596544-OqeUxehteJnMqVw9MfYSDMPXcDatLmV'\n",
    "    OAUTH_TOKEN_SECRET = 'fGQ3162mmYMQHc9qo1rpZoLyyKfe4r77H0bnPegiFC1aY'\n",
    "    \n",
    "    twitter=Twython(CONSUMER_KEY,CONSUMER_SECRET,OAUTH_TOKEN,OAUTH_TOKEN_SECRET)\n",
    "    results=twitter.cursor(twitter.search,q=searchTerm,geocode=code)\n",
    "    \n",
    "    number = 0\n",
    "    tweets=[]\n",
    "    for tweet in results:\n",
    "        if number<=1000:\n",
    "            tweets.append(str(tweet))\n",
    "            number+=1\n",
    "        else:\n",
    "            break\n",
    "           \n",
    "    lowered_texts = []\n",
    "    for texts in tweets:\n",
    "        try: \n",
    "            mytext = str(texts.lower())\n",
    "            lowered_texts.append(mytext)\n",
    "        except:\n",
    "            pass\n",
    "        \n",
    "    punctuation = \"!\\\"#$%&'()*+,-./:;<=>?@[\\\\]^_`{|}~\"\n",
    "    s_sans_punct = \"\"\n",
    "    for letter in str(lowered_texts):\n",
    "        if (letter not in punctuation) and (letter in \"abcdefghijklmnopqrstuvwxyz \"):\n",
    "            s_sans_punct += letter\n",
    "    sentiment=[]\n",
    "    t=TextBlob(s_sans_punct)\n",
    "    sentiment.append(t.sentiment.polarity)\n",
    "    \n",
    "    sentiment2=[]\n",
    "    score=(sentiment[0]+1)*50\n",
    "    sentiment2.append(score)\n",
    "    \n",
    "    text=[]\n",
    "    text.append(s_sans_punct)\n",
    "    \n",
    "    df=pd.DataFrame()\n",
    "    df['sentiment']=sentiment2\n",
    "    df['text']=text\n",
    "    df.to_csv(filename)\n",
    "\n",
    "    return sentiment2"
   ]
  },
  {
   "cell_type": "code",
   "execution_count": 7,
   "metadata": {
    "collapsed": false,
    "scrolled": true
   },
   "outputs": [
    {
     "data": {
      "text/plain": [
       "[37.77454925129514]"
      ]
     },
     "execution_count": 7,
     "metadata": {},
     "output_type": "execute_result"
    }
   ],
   "source": [
    "getTwitterData('Clinton','44.31,-85.60,500mi','twython-Clinton-Michigan.csv')"
   ]
  },
  {
   "cell_type": "code",
   "execution_count": 9,
   "metadata": {
    "collapsed": false
   },
   "outputs": [
    {
     "data": {
      "text/plain": [
       "[39.7496049572386]"
      ]
     },
     "execution_count": 9,
     "metadata": {},
     "output_type": "execute_result"
    }
   ],
   "source": [
    "getTwitterData('Clinton','38.80,-116.42,500mi','twython-Clinton-Nevada.csv')"
   ]
  },
  {
   "cell_type": "code",
   "execution_count": 11,
   "metadata": {
    "collapsed": false
   },
   "outputs": [
    {
     "data": {
      "text/plain": [
       "[38.87479181920834]"
      ]
     },
     "execution_count": 11,
     "metadata": {},
     "output_type": "execute_result"
    }
   ],
   "source": [
    "getTwitterData('Clinton','43.78,-88.79,500mi','twython-Clinton-Wisconsin.csv')"
   ]
  },
  {
   "cell_type": "code",
   "execution_count": 12,
   "metadata": {
    "collapsed": false
   },
   "outputs": [
    {
     "data": {
      "text/plain": [
       "[39.222599112972276]"
      ]
     },
     "execution_count": 12,
     "metadata": {},
     "output_type": "execute_result"
    }
   ],
   "source": [
    "getTwitterData('Clinton','40.42,-80.91,500mi','twython-Clinton-Ohio.csv')"
   ]
  },
  {
   "cell_type": "code",
   "execution_count": 16,
   "metadata": {
    "collapsed": false
   },
   "outputs": [
    {
     "data": {
      "text/plain": [
       "[40.788317659878714]"
      ]
     },
     "execution_count": 16,
     "metadata": {},
     "output_type": "execute_result"
    }
   ],
   "source": [
    "getTwitterData('Trump','44.31,-85.60,500mi','twython-Trump-Michigan.csv')"
   ]
  },
  {
   "cell_type": "code",
   "execution_count": 17,
   "metadata": {
    "collapsed": false
   },
   "outputs": [
    {
     "data": {
      "text/plain": [
       "[41.76861637309609]"
      ]
     },
     "execution_count": 17,
     "metadata": {},
     "output_type": "execute_result"
    }
   ],
   "source": [
    "getTwitterData('Trump','38.80,-116.42,500mi','twython-Trump-Nevada.csv')"
   ]
  },
  {
   "cell_type": "code",
   "execution_count": 21,
   "metadata": {
    "collapsed": false
   },
   "outputs": [
    {
     "data": {
      "text/plain": [
       "[40.126686735131884]"
      ]
     },
     "execution_count": 21,
     "metadata": {},
     "output_type": "execute_result"
    }
   ],
   "source": [
    "getTwitterData('Trump','43.78,-88.79,500mi','twython-Trump-Wisconsin.csv')"
   ]
  },
  {
   "cell_type": "code",
   "execution_count": 22,
   "metadata": {
    "collapsed": false
   },
   "outputs": [
    {
     "data": {
      "text/plain": [
       "[39.808779670320014]"
      ]
     },
     "execution_count": 22,
     "metadata": {},
     "output_type": "execute_result"
    }
   ],
   "source": [
    "getTwitterData('Trump','40.42,-80.91,500mi','twython-Trump-Ohio.csv')"
   ]
  },
  {
   "cell_type": "code",
   "execution_count": 23,
   "metadata": {
    "collapsed": true
   },
   "outputs": [],
   "source": [
    "def plotdata_twython():\n",
    "    df_1=pd.read_csv('twython-Clinton-Michigan.csv')\n",
    "    df_2=pd.read_csv('twython-Clinton-Nevada.csv')\n",
    "    df_3=pd.read_csv('twython-Clinton-Wisconsin.csv')\n",
    "    df_4=pd.read_csv('twython-Clinton-Ohio.csv')\n",
    "\n",
    "    df_a=pd.read_csv('twython-Trump-Michigan.csv')\n",
    "    df_b=pd.read_csv('twython-Trump-Nevada.csv')\n",
    "    df_c=pd.read_csv('twython-Trump-Wisconsin.csv')\n",
    "    df_d=pd.read_csv('twython-Trump-Ohio.csv')\n",
    "\n",
    "    clinton=pd.DataFrame({'Michigan':df_1.loc[[0],'sentiment'],\n",
    "                          'Nevada':df_2.loc[[0],'sentiment'],\n",
    "                          'Wisconsin':df_3.loc[[0],'sentiment'],\n",
    "                          'Ohio':df_4.loc[[0],'sentiment']})\n",
    "    trump=pd.DataFrame({'Michigan':df_a.loc[[0],'sentiment'],\n",
    "                        'Nevada':df_b.loc[[0],'sentiment'],\n",
    "                        'Wisconsin':df_c.loc[[0],'sentiment'],\n",
    "                        'Ohio':df_d.loc[[0],'sentiment']})\n",
    "    All=clinton.append(trump)\n",
    "\n",
    "    All=All.T\n",
    "    All.columns = ['Clinton', 'Trump']\n",
    "\n",
    "    plt.style.use('ggplot')\n",
    "    colors=['blue','red']\n",
    "    All.plot(kind='barh',color=colors)\n",
    "    plt.xlabel('sentiment')\n",
    "    \n",
    "    plt.title('Clinton and Trump_twython')\n",
    "    plt.show()"
   ]
  },
  {
   "cell_type": "code",
   "execution_count": 24,
   "metadata": {
    "collapsed": false
   },
   "outputs": [
    {
     "data": {
      "image/png": "[encoded data removed]",
      "text/plain": [
       "<matplotlib.figure.Figure at 0x7fee053bfeb8>"
      ]
     },
     "metadata": {},
     "output_type": "display_data"
    }
   ],
   "source": [
    "plotdata_twython()"
   ]
  },
  {
   "cell_type": "code",
   "execution_count": null,
   "metadata": {
    "collapsed": true
   },
   "outputs": [],
   "source": []
  }
 ],
 "metadata": {
  "anaconda-cloud": {},
  "kernelspec": {
   "display_name": "Python [conda root]",
   "language": "python",
   "name": "conda-root-py"
  },
  "language_info": {
   "codemirror_mode": {
    "name": "ipython",
    "version": 3
   },
   "file_extension": ".py",
   "mimetype": "text/x-python",
   "name": "python",
   "nbconvert_exporter": "python",
   "pygments_lexer": "ipython3",
   "version": "3.5.2"
  }
 },
 "nbformat": 4,
 "nbformat_minor": 1
}
