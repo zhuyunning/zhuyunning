{
 "cells": [
  {
   "cell_type": "markdown",
   "metadata": {},
   "source": [
    "# Scraping the data for IMDB scores and Metacritic Scores"
   ]
  },
  {
   "cell_type": "markdown",
   "metadata": {},
   "source": [
    "### Using beautiful soup to scrape all the data from the web"
   ]
  },
  {
   "cell_type": "code",
   "execution_count": null,
   "metadata": {
    "collapsed": false
   },
   "outputs": [],
   "source": [
    "import urllib.request\n",
    "from bs4 import BeautifulSoup as bs\n",
    "\n",
    "get=[]\n",
    "\n",
    "for x in range(1,1,1):\n",
    "\n",
    "    url=\"https://www.imdb.com/search/title?year=2015,2015&title_type=feature&sort=moviemeter,asc&page=\"+str(x)    \n",
    "    request = urllib.request.Request(url)\n",
    "    response = urllib.request.urlopen(request)\n",
    "    data = response.read()\n",
    "    response.close()\n",
    "\n",
    "# Create the soup\n",
    "    soup = bs(data,\"html.parser\") \n",
    "\n",
    "    get.extend(soup.find_all(\"div\",class_=\"lister-item-content\"))\n",
    "   \n",
    "    # Print parse tree\n",
    "    #print(soup.prettify())"
   ]
  },
  {
   "cell_type": "markdown",
   "metadata": {},
   "source": [
    "### Gets the IMDB Ratings"
   ]
  },
  {
   "cell_type": "code",
   "execution_count": null,
   "metadata": {
    "collapsed": false
   },
   "outputs": [],
   "source": [
    "ratings=[]\n",
    "for elements in get:\n",
    "    if elements.find(\"div\",class_=\"inline-block ratings-imdb-rating\"):\n",
    "        z=elements.find(\"div\",class_=\"inline-block ratings-imdb-rating\").get_text().strip()\n",
    "        ratings.append(float(z))\n",
    "    else:\n",
    "        ratings.append(\"No Data\")"
   ]
  },
  {
   "cell_type": "markdown",
   "metadata": {},
   "source": [
    "### Gets the h3 element which has the name in it"
   ]
  },
  {
   "cell_type": "code",
   "execution_count": null,
   "metadata": {
    "collapsed": false
   },
   "outputs": [],
   "source": [
    "list1=[]\n",
    "for elements in get:\n",
    "    if elements.find(\"h3\", class_=\"lister-item-header\"):\n",
    "        list1.append(elements.find(\"h3\", class_=\"lister-item-header\"))\n",
    "    else:\n",
    "        list1.append(0.0)"
   ]
  },
  {
   "cell_type": "markdown",
   "metadata": {},
   "source": [
    "### Extracts the name from each element of the above list"
   ]
  },
  {
   "cell_type": "code",
   "execution_count": null,
   "metadata": {
    "collapsed": false
   },
   "outputs": [],
   "source": [
    "names=[]\n",
    "for elements in list1:\n",
    "    if elements.find(\"a\"):\n",
    "        names.append(elements.find(\"a\").get_text().strip())\n",
    "    else:\n",
    "        names.append(\"No Data\")"
   ]
  },
  {
   "cell_type": "markdown",
   "metadata": {},
   "source": [
    "### Gets the metascore for each of the movie"
   ]
  },
  {
   "cell_type": "code",
   "execution_count": null,
   "metadata": {
    "collapsed": false
   },
   "outputs": [],
   "source": [
    "meta=[]\n",
    "for elements in get:\n",
    "    if elements.find(\"div\",class_=\"inline-block ratings-metascore\"):\n",
    "        z=elements.find(\"div\",class_=\"inline-block ratings-metascore\").get_text()[0:5].strip()\n",
    "        meta.append(int(z))\n",
    "    else:\n",
    "        meta.append(0)"
   ]
  },
  {
   "cell_type": "markdown",
   "metadata": {},
   "source": [
    "### Creating a pandas dataframe and transferring every element in the list to the datframe"
   ]
  },
  {
   "cell_type": "code",
   "execution_count": null,
   "metadata": {
    "collapsed": false
   },
   "outputs": [],
   "source": [
    "import pandas as pd\n",
    "df1 = pd.DataFrame ({\"Names\" : names , \"IMDB\" : ratings , \"MetaScore\" : meta})"
   ]
  },
  {
   "cell_type": "code",
   "execution_count": null,
   "metadata": {
    "collapsed": true
   },
   "outputs": [],
   "source": [
    "df1.to_csv(\"IMDB(100 Pages).csv\")"
   ]
  },
  {
   "cell_type": "markdown",
   "metadata": {
    "collapsed": true
   },
   "source": [
    "### Now we scraped only the 1st 100 pages because the top 100 movies we were looking for were in the 1st 5000 results"
   ]
  },
  {
   "cell_type": "markdown",
   "metadata": {},
   "source": [
    "## Now there was a PROBLEM \n",
    "The names in the ratings dataframe was similar to in the budget and revenue dataframes, but not exactly the same, so we replace the names in budget and revenue dataframes with those matching or simliar in the IMDB dataframe"
   ]
  },
  {
   "cell_type": "code",
   "execution_count": null,
   "metadata": {
    "collapsed": false
   },
   "outputs": [],
   "source": [
    "import pandas as pd\n",
    "imdb_meta = pd.read_csv(\"IMDB(100 Pages).csv\")\n",
    "budget_rev = pd.read_csv(\"Budget_Rev.csv\")"
   ]
  },
  {
   "cell_type": "code",
   "execution_count": null,
   "metadata": {
    "collapsed": false
   },
   "outputs": [],
   "source": [
    "del imdb_meta['Unnamed: 0']\n",
    "del budget_rev[\"Unnamed: 0\"]"
   ]
  },
  {
   "cell_type": "code",
   "execution_count": null,
   "metadata": {
    "collapsed": false
   },
   "outputs": [],
   "source": [
    "budget_rev.columns = ['Names', 'Budget', 'WorldWide_Rev']"
   ]
  },
  {
   "cell_type": "markdown",
   "metadata": {},
   "source": [
    "### Using difflib for the word matching"
   ]
  },
  {
   "cell_type": "code",
   "execution_count": null,
   "metadata": {
    "collapsed": true
   },
   "outputs": [],
   "source": [
    "import difflib"
   ]
  },
  {
   "cell_type": "code",
   "execution_count": null,
   "metadata": {
    "collapsed": false
   },
   "outputs": [],
   "source": [
    "z=[]\n",
    "for element in budget_rev[\"Names\"]:\n",
    "    try:\n",
    "        print(element)\n",
    "        print(\"The closes match is ::::::\"+difflib.get_close_matches(str(element),imdb_meta['Names'],cutoff=0.97)[0]+\"\\n\")\n",
    "\n",
    "        z.append(difflib.get_close_matches(str(element),imdb_meta['Names'],cutoff=0.97)[0])\n",
    "    except:\n",
    "        print(\"No Match\")\n",
    "        print(\"The name remains the same\")\n",
    "        z.append(\"No Match\")"
   ]
  },
  {
   "cell_type": "code",
   "execution_count": null,
   "metadata": {
    "collapsed": false
   },
   "outputs": [],
   "source": [
    "budget_rev[\"Names\"]=z"
   ]
  },
  {
   "cell_type": "code",
   "execution_count": null,
   "metadata": {
    "collapsed": false
   },
   "outputs": [],
   "source": [
    "budget_rev = budget_rev[budget_rev.Names!= 'No Match']"
   ]
  },
  {
   "cell_type": "code",
   "execution_count": null,
   "metadata": {
    "collapsed": false
   },
   "outputs": [],
   "source": [
    "budget_rev.to_csv(\"Budget_Revenue.csv\")"
   ]
  },
  {
   "cell_type": "markdown",
   "metadata": {},
   "source": [
    "## Now we have a Budget_Revenue file that has the same names as that of the IMDB_Meta Ratings file, so what's simply left is to join them"
   ]
  },
  {
   "cell_type": "code",
   "execution_count": null,
   "metadata": {
    "collapsed": true
   },
   "outputs": [],
   "source": [
    "Movies=pd.merge(budget_rev,imdb_meta)"
   ]
  },
  {
   "cell_type": "code",
   "execution_count": null,
   "metadata": {
    "collapsed": false
   },
   "outputs": [],
   "source": [
    "Movies.drop_duplicates(\"Names\")"
   ]
  },
  {
   "cell_type": "markdown",
   "metadata": {},
   "source": [
    "#### So after dropping the duplicates we have the exact number of columns that our Budget_revenue file had and we select the top 100 from it."
   ]
  },
  {
   "cell_type": "code",
   "execution_count": null,
   "metadata": {
    "collapsed": true
   },
   "outputs": [],
   "source": []
  }
 ],
 "metadata": {
  "anaconda-cloud": {},
  "kernelspec": {
   "display_name": "Python [default]",
   "language": "python",
   "name": "python3"
  },
  "language_info": {
   "codemirror_mode": {
    "name": "ipython",
    "version": 3
   },
   "file_extension": ".py",
   "mimetype": "text/x-python",
   "name": "python",
   "nbconvert_exporter": "python",
   "pygments_lexer": "ipython3",
   "version": "3.5.2"
  }
 },
 "nbformat": 4,
 "nbformat_minor": 1
}
