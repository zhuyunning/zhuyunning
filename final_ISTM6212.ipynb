{
 "cells": [
  {
   "cell_type": "markdown",
   "metadata": {},
   "source": [
    "### Group Members: Yuanjing Han, Youdan Shi, Jingning Li, Yunning Zhu----We collaborated with each other to finish this project and we're all satisfied with others' contribution."
   ]
  },
  {
   "cell_type": "markdown",
   "metadata": {
    "slideshow": {
     "slide_type": "skip"
    }
   },
   "source": [
    "# Project 3 - due Friday, 12/9 at 12pm\n",
    "Work in groups of four people per project.\n",
    "\n",
    "Select a dataset of at least 250,000 records, preferably at the level of individual transactions. Acquire the\n",
    "data, survey it, wrangle it into a suitable format, and analyze it. Present your work in a brief (8-10 minute)\n",
    "talk in class on Tuesday, 12/6, and write up your process and results in a reproducible notebook.\n",
    "\n",
    "You may use any of the methods we studied in class: Unix command line tools, relational databases and\n",
    "dimensional models with SQLite or PostgreSQL, or Spark. The datanotebook.org server will remain available\n",
    "until the end of the semester and may be used for the project.\n",
    "\n",
    "Attestation: All project team members should contribute meaningfully to the final results. Please attest to\n",
    "your individual contributions and that each member contributed substantially to the project in your final\n",
    "writeup.\n",
    "\n",
    "Deadline: Friday, 12/9, 12pm. Submit your presentation (PDF export), your notebook, and any additionally\n",
    "necessary files like scripts or images together in one zip file. Only one team member should submit on behalf\n",
    "of all members. All team members should post their projects to GitHub for reviews after the deadline has\n",
    "passed.\n",
    "\n",
    "## Part 1 - Selection (30 points)\n",
    "Identify and describe your dataset, its source, and what appeals to you about it. Acquire the data and\n",
    "perform an initial exploration to determine which themes you wish to explore. Describe the questions you\n",
    "want to be able to answer with the data, any concerns you have about the data, and any challenges you\n",
    "expect to have to overcome."
   ]
  },
  {
   "cell_type": "markdown",
   "metadata": {},
   "source": [
    "## What is the dataset ?\n",
    "### In this part, after a lot of comparison and discussion, we finally decided to explore Chicago Crime Dataset. (https://data.cityofchicago.org/Public-Safety/Crimes-2001-to-present/ijzp-q8t2) However, this dataset contains over 6 million records which is too big and all of us four we prefered narcotics related crimes than other type of crimes so we filtered this dataset to get the subset which we'd like to explore. This dataset helps communities make informed judgements about public safety and provides transparency into how police power is deing exercised. Below are the meanings of each column: \n",
    "* ID:Unique identifier for the record.\n",
    "* Case Number: The Chicago Police Department RD Number (Records Division Number), which is unique to the incident. \n",
    "* Date when the incident occurred. this is sometimes a best estimate.\n",
    "* Block: The partially redacted address where the incident occurred, placing it on the same block as the actual address. \n",
    "* IUCR: The Illinois Unifrom Crime Reporting code. This is directly linked to the Primary Type and Description. See the list of IUCR codes at https://data.cityofchicago.org/d/c7ck-438e.\n",
    "* Primary Type: The primary description of the IUCR code.\n",
    "* Description: The secondary description of the IUCR code, a subcategory of the primary description.\n",
    "* Location Description: Description of the location where the incident occurred.\n",
    "* Arrest: Indicates whether an arrest was made.\n",
    "* Domestic: Indicates whether the incident was domestic-related as defined by the Illinois Domestic Violence Act.\n",
    "* Beat: Indicates the beat where the incident occurred. A beat is the smallest police geographic area ¨C each beat has a dedicated police beat car. Three to five beats make up a police sector, and three sectors make up a police district. The Chicago Police Department has 22 police districts. See the beats at https://data.cityofchicago.org/d/aerh-rz74. \n",
    "* District: Indicates the police district where the incident occurred. See the districts at https://data.cityofchicago.org/d/fthy-xz3r.\n",
    "* Ward: The ward (City Council district) where the incident occurred. See the wards at https://data.cityofchicago.org/d/sp34-6z76.\n",
    "* Community Area: Indicates the community area where the incident occurred. Chicago has 77 community areas. See the community areas at https://data.cityofchicago.org/d/cauq-8yn6. \n",
    "* FBI Code: Indicates the crime classification as outlined in the FBI's National Incident-Based Reporting System (NIBRS). See the Chicago Police Department listing of these classifications at http://gis.chicagopolice.org/clearmap_crime_sums/crime_types.html. \n",
    "* X Coordinate: The x coordinate of the location where the incident occurred in State Plane Illinois East NAD 1983 projection. This location is shifted from the actual location for partial redaction but falls on the same block.\n",
    "* Y Coordinate: The y coordinate of the location where the incident occurred in State Plane Illinois East NAD 1983 projection. This location is shifted from the actual location for partial redaction but falls on the same block.\n",
    "* Year: Year the incident occurred.\n",
    "* Updated On: Date and time the record was last updated.\n",
    "* Latitude: The latitude of the location where the incident occurred. This location is shifted from the actual location for partial redaction but falls on the same block.\n",
    "* Longitude: The longitude of the location where the incident occurred. This location is shifted from the actual location for partial redaction but falls on the same block.\n",
    "* Location: The location where the incident occurred in a format that allows for creation of maps and other geographic operations on this data portal. This location is shifted from the actual location for partial redaction but falls on the same block.\n"
   ]
  },
  {
   "cell_type": "code",
   "execution_count": null,
   "metadata": {
    "collapsed": false,
    "slideshow": {
     "slide_type": "skip"
    }
   },
   "outputs": [
    {
     "name": "stdout",
     "output_type": "stream",
     "text": [
      "--2016-12-09 16:34:34--  https://data.cityofchicago.org/api/views/ijzp-q8t2/rows.csv?accessType=DOWNLOAD\n",
      "Resolving data.cityofchicago.org (data.cityofchicago.org)... 52.206.68.26\n",
      "Connecting to data.cityofchicago.org (data.cityofchicago.org)|52.206.68.26|:443... connected.\n",
      "HTTP request sent, awaiting response... 200 OK\n",
      "Length: unspecified [text/csv]\n",
      "Saving to: ‘rows.csv?accessType=DOWNLOAD’\n",
      "\n",
      "ows.csv?accessType=     [         <=>          ]  94.78M  2.26MB/s             "
     ]
    }
   ],
   "source": [
    "!wget https://data.cityofchicago.org/api/views/ijzp-q8t2/rows.csv?accessType=DOWNLOAD"
   ]
  },
  {
   "cell_type": "code",
   "execution_count": 4,
   "metadata": {
    "collapsed": true,
    "slideshow": {
     "slide_type": "skip"
    }
   },
   "outputs": [],
   "source": [
    "!mv rows.csv?accessType=DOWNLOAD Crime.csv"
   ]
  },
  {
   "cell_type": "code",
   "execution_count": 3,
   "metadata": {
    "collapsed": false,
    "slideshow": {
     "slide_type": "skip"
    }
   },
   "outputs": [
    {
     "name": "stdout",
     "output_type": "stream",
     "text": [
      "6220184 Crime.csv\r\n"
     ]
    }
   ],
   "source": [
    "!wc -l Crime.csv"
   ]
  },
  {
   "cell_type": "code",
   "execution_count": 4,
   "metadata": {
    "collapsed": false,
    "slideshow": {
     "slide_type": "skip"
    }
   },
   "outputs": [
    {
     "name": "stdout",
     "output_type": "stream",
     "text": [
      "  1: ID\r\n",
      "  2: Case Number\r\n",
      "  3: Date\r\n",
      "  4: Block\r\n",
      "  5: IUCR\r\n",
      "  6: Primary Type\r\n",
      "  7: Description\r\n",
      "  8: Location Description\r\n",
      "  9: Arrest\r\n",
      " 10: Domestic\r\n",
      " 11: Beat\r\n",
      " 12: District\r\n",
      " 13: Ward\r\n",
      " 14: Community Area\r\n",
      " 15: FBI Code\r\n",
      " 16: X Coordinate\r\n",
      " 17: Y Coordinate\r\n",
      " 18: Year\r\n",
      " 19: Updated On\r\n",
      " 20: Latitude\r\n",
      " 21: Longitude\r\n",
      " 22: Location\r\n"
     ]
    }
   ],
   "source": [
    "!csvcut -n Crime.csv"
   ]
  },
  {
   "cell_type": "markdown",
   "metadata": {},
   "source": [
    "## Why we choose this dataset? \n",
    "### More specificly, except the fact that we are interested in crime topic, this dataset contains few missing values in most of its columns and it contains transactional records which we're looking for."
   ]
  },
  {
   "cell_type": "markdown",
   "metadata": {},
   "source": [
    "## How we use this dataset? \n",
    "### We will build a star schema, then join the fact table with dimension tables to explore more questions. Specifically, we pay attention to three categories of questions, the time pattern of narcotics, the geographic pattern of narcotics crime, the relationship between police power and narcotics crime frequency. There are missing values in several columns which we'll deal with and since there are many attributes in this dataset, maybe for some specific attribute it's hard to choose to put it in fact table or in a dimension table. "
   ]
  },
  {
   "cell_type": "markdown",
   "metadata": {
    "slideshow": {
     "slide_type": "skip"
    }
   },
   "source": [
    "## Part 2 - Wrangling (35 points)\n",
    "Based on what you found above, wrangle the data into a format suitable for analysis. This may involve\n",
    "cleaning, filtering, merging, and modeling steps, any and all of which are valid for this project. Describe your\n",
    "process as you proceed, and document any scripts, databases, or other models you develop. Be specific about\n",
    "any key decisions to modify or remove data, how you overcame any challenges, and all assumptions you make\n",
    "about the meaning of variables and their values.\n",
    "\n",
    "Verify that your wrangling steps have succeeded (for example, if you loaded the data into a dimensional\n",
    "model, ensure that the fact table contains the right number of records)."
   ]
  },
  {
   "cell_type": "markdown",
   "metadata": {},
   "source": [
    "## Stage One: In this stage, we wrangle the dataset into a format suitable for later analysis. For instance, we filter data in order to select the part we prefer to analyze. We also handle null values."
   ]
  },
  {
   "cell_type": "markdown",
   "metadata": {},
   "source": [
    "### Step1.1. We filter data from the dataset. We choose only narcotics crime data."
   ]
  },
  {
   "cell_type": "code",
   "execution_count": 5,
   "metadata": {
    "collapsed": false,
    "slideshow": {
     "slide_type": "slide"
    }
   },
   "outputs": [],
   "source": [
    "!csvcut Crime.csv | csvgrep -c6 -m 'NARCOTICS' > narcotics.csv"
   ]
  },
  {
   "cell_type": "code",
   "execution_count": 6,
   "metadata": {
    "collapsed": false,
    "slideshow": {
     "slide_type": "slide"
    }
   },
   "outputs": [
    {
     "name": "stdout",
     "output_type": "stream",
     "text": [
      "686028 narcotics.csv\r\n"
     ]
    }
   ],
   "source": [
    "!wc -l  narcotics.csv"
   ]
  },
  {
   "cell_type": "code",
   "execution_count": null,
   "metadata": {
    "collapsed": true
   },
   "outputs": [],
   "source": [
    "import pandas as pd\n",
    "df_crime = pd.read_csv('narcotics.csv',parse_dates = ['Date','Updated On'],error_bad_lines=False)"
   ]
  },
  {
   "cell_type": "markdown",
   "metadata": {},
   "source": [
    "Count how many missing values there are in each columns."
   ]
  },
  {
   "cell_type": "code",
   "execution_count": null,
   "metadata": {
    "collapsed": true
   },
   "outputs": [],
   "source": [
    "df_crime.isnull().sum()"
   ]
  },
  {
   "cell_type": "code",
   "execution_count": null,
   "metadata": {
    "collapsed": true
   },
   "outputs": [],
   "source": [
    "df_crime.dtypes"
   ]
  },
  {
   "cell_type": "markdown",
   "metadata": {
    "slideshow": {
     "slide_type": "slide"
    }
   },
   "source": [
    "### Step1.2. We create and connect to a new database."
   ]
  },
  {
   "cell_type": "code",
   "execution_count": 7,
   "metadata": {
    "collapsed": false,
    "slideshow": {
     "slide_type": "skip"
    }
   },
   "outputs": [
    {
     "name": "stderr",
     "output_type": "stream",
     "text": [
      "/opt/conda/lib/python3.5/site-packages/IPython/config.py:13: ShimWarning: The `IPython.config` package has been deprecated. You should import from traitlets.config instead.\n",
      "  \"You should import from traitlets.config instead.\", ShimWarning)\n",
      "/opt/conda/lib/python3.5/site-packages/IPython/utils/traitlets.py:5: UserWarning: IPython.utils.traitlets has moved to a top-level traitlets package.\n",
      "  warn(\"IPython.utils.traitlets has moved to a top-level traitlets package.\")\n"
     ]
    }
   ],
   "source": [
    "%load_ext sql"
   ]
  },
  {
   "cell_type": "code",
   "execution_count": 8,
   "metadata": {
    "collapsed": false,
    "slideshow": {
     "slide_type": "skip"
    }
   },
   "outputs": [
    {
     "name": "stdout",
     "output_type": "stream",
     "text": [
      "[sudo] password for jovyan: Restarting PostgreSQL 9.5 database server: main.\n"
     ]
    }
   ],
   "source": [
    "!echo 'redspot' | sudo -S service postgresql restart"
   ]
  },
  {
   "cell_type": "code",
   "execution_count": 9,
   "metadata": {
    "collapsed": false,
    "slideshow": {
     "slide_type": "skip"
    }
   },
   "outputs": [],
   "source": [
    "!createdb -U dbuser Final"
   ]
  },
  {
   "cell_type": "code",
   "execution_count": 10,
   "metadata": {
    "collapsed": false,
    "slideshow": {
     "slide_type": "skip"
    }
   },
   "outputs": [
    {
     "data": {
      "text/plain": [
       "'Connected: dbuser@Final'"
      ]
     },
     "execution_count": 10,
     "metadata": {},
     "output_type": "execute_result"
    }
   ],
   "source": [
    "%sql postgresql://dbuser@localhost:5432/Final"
   ]
  },
  {
   "cell_type": "markdown",
   "metadata": {},
   "source": [
    "Use shuf and csvstat to take a subsample of the dataset and analyze it so that we can briefly learn about our data."
   ]
  },
  {
   "cell_type": "code",
   "execution_count": 11,
   "metadata": {
    "collapsed": false,
    "slideshow": {
     "slide_type": "skip"
    }
   },
   "outputs": [
    {
     "name": "stdout",
     "output_type": "stream",
     "text": [
      "  1. 7299441\n",
      "\t<class 'int'>\n",
      "\tNulls: False\n",
      "\tMin: 1322053\n",
      "\tMax: 10766772\n",
      "\tSum: 281725867309\n",
      "\tMean: 5634630.038780776\n",
      "\tMedian: 5494041\n",
      "\tStandard Deviation: 2642967.949520714\n",
      "\tUnique values: 49999\n",
      "  2. HS103409\n",
      "\t<class 'str'>\n",
      "\tNulls: False\n",
      "\tUnique values: 49999\n",
      "\tMax length: 8\n",
      "  3. 01/03/2010 04:55:00 PM\n",
      "\t<class 'datetime.datetime'>\n",
      "\tNulls: False\n",
      "\tMin: 2001-01-01 13:35:00\n",
      "\tMax: 2016-11-28 11:45:00\n",
      "\tUnique values: 49302\n",
      "\t5 most frequent values:\n",
      "\t\t2001-12-07 11:22:30:\t5\n",
      "\t\t2006-02-16 09:10:04:\t4\n",
      "\t\t2006-08-28 07:30:00:\t4\n",
      "\t\t2003-10-09 07:30:00:\t4\n",
      "\t\t2007-01-22 11:00:00:\t4\n",
      "  4. 049XX W MADISON ST\n",
      "\t<class 'str'>\n",
      "\tNulls: False\n",
      "\tUnique values: 14596\n",
      "\t5 most frequent values:\n",
      "\t\t033XX W FILLMORE ST:\t143\n",
      "\t\t005XX E BROWNING AVE:\t124\n",
      "\t\t023XX S STATE ST:\t103\n",
      "\t\t038XX W ROOSEVELT RD:\t99\n",
      "\t\t036XX S FEDERAL ST:\t86\n",
      "\tMax length: 35\n",
      "  5. 2028\n",
      "\t<class 'int'>\n",
      "\tNulls: False\n",
      "\tMin: 1811\n",
      "\tMax: 2170\n",
      "\tSum: 96849665\n",
      "\tMean: 1937.0320406408127\n",
      "\tMedian: 2017\n",
      "\tStandard Deviation: 116.77813697813845\n",
      "\tUnique values: 47\n",
      "\t5 most frequent values:\n",
      "\t\t1811:\t20031\n",
      "\t\t2027:\t8610\n",
      "\t\t2024:\t6345\n",
      "\t\t2092:\t1884\n",
      "\t\t2022:\t1740\n",
      "  6. NARCOTICS\n",
      "\t<class 'str'>\n",
      "\tNulls: False\n",
      "\tValues: NARCOTICS\n",
      "  7. POSS: SYNTHETIC DRUGS\n",
      "\t<class 'str'>\n",
      "\tNulls: False\n",
      "\tUnique values: 47\n",
      "\t5 most frequent values:\n",
      "\t\tPOSS: CANNABIS 30GMS OR LESS:\t20031\n",
      "\t\tPOSS: CRACK:\t8610\n",
      "\t\tPOSS: HEROIN(WHITE):\t6345\n",
      "\t\tSOLICIT NARCOTICS ON PUBLICWAY:\t1884\n",
      "\t\tPOSS: COCAINE:\t1740\n",
      "\tMax length: 51\n",
      "  8. STREET\n",
      "\t<class 'str'>\n",
      "\tNulls: False\n",
      "\tUnique values: 81\n",
      "\t5 most frequent values:\n",
      "\t\tSTREET:\t17817\n",
      "\t\tSIDEWALK:\t15801\n",
      "\t\tALLEY:\t3197\n",
      "\t\tRESIDENCE:\t1913\n",
      "\t\tCHA PARKING LOT/GROUNDS:\t1510\n",
      "\tMax length: 46\n",
      "  9. true\n",
      "\t<class 'bool'>\n",
      "\tNulls: False\n",
      "\tUnique values: 2\n",
      "\t5 most frequent values:\n",
      "\t\tTrue:\t49689\n",
      "\t\tFalse:\t310\n",
      " 10. false\n",
      "\t<class 'bool'>\n",
      "\tNulls: False\n",
      "\tUnique values: 2\n",
      "\t5 most frequent values:\n",
      "\t\tFalse:\t49985\n",
      "\t\tTrue:\t14\n",
      " 11. 1533\n",
      "\t<class 'str'>\n",
      "\tNulls: False\n",
      "\tUnique values: 302\n",
      "\t5 most frequent values:\n",
      "\t\t1112:\t1147\n",
      "\t\t1533:\t928\n",
      "\t\t1531:\t904\n",
      "\t\t1532:\t899\n",
      "\t\t1522:\t846\n",
      "\tMax length: 4\n",
      " 12. 015\n",
      "\t<class 'str'>\n",
      "\tNulls: True\n",
      "\tUnique values: 23\n",
      "\t5 most frequent values:\n",
      "\t\t011:\t8156\n",
      "\t\t015:\t5492\n",
      "\t\t007:\t3477\n",
      "\t\t010:\t3034\n",
      "\t\t006:\t2675\n",
      "\tMax length: 4\n",
      " 13. 28\n",
      "\t<class 'int'>\n",
      "\tNulls: True\n",
      "\tMin: 1\n",
      "\tMax: 50\n",
      "\tSum: 981943\n",
      "\tMean: 21.857384529771842\n",
      "\tMedian: 24\n",
      "\tStandard Deviation: 12.0790728698537\n",
      "\tUnique values: 50\n",
      "\t5 most frequent values:\n",
      "\t\t28:\t5178\n",
      "\t\t24:\t3859\n",
      "\t\t27:\t3063\n",
      "\t\t37:\t2164\n",
      "\t\t3:\t1926\n",
      " 14. 25\n",
      "\t<class 'int'>\n",
      "\tNulls: True\n",
      "\tMin: 1\n",
      "\tMax: 77\n",
      "\tSum: 1688149\n",
      "\tMean: 37.584580105085045\n",
      "\tMedian: 29.0\n",
      "\tStandard Deviation: 19.586038772000688\n",
      "\tUnique values: 77\n",
      "\t5 most frequent values:\n",
      "\t\t25:\t6252\n",
      "\t\t23:\t3152\n",
      "\t\t29:\t2755\n",
      "\t\t26:\t2161\n",
      "\t\t27:\t1892\n",
      " 15. 18\n",
      "\t<class 'int'>\n",
      "\tNulls: False\n",
      "\tValues: 18, 26\n",
      " 16. 1143578\n",
      "\t<class 'int'>\n",
      "\tNulls: True\n",
      "\tMin: 0\n",
      "\tMax: 1204913\n",
      "\tSum: 57268804352\n",
      "\tMean: 1161851.1361506158\n",
      "\tMedian: 1160498\n",
      "\tStandard Deviation: 18180.55511807913\n",
      "\tUnique values: 24187\n",
      "\t5 most frequent values:\n",
      "\t\t1154228:\t98\n",
      "\t\t1171084:\t82\n",
      "\t\t1176315:\t70\n",
      "\t\t1176436:\t60\n",
      "\t\t1176227:\t56\n",
      " 17. 1899572\n",
      "\t<class 'int'>\n",
      "\tNulls: True\n",
      "\tMin: 0\n",
      "\tMax: 1951531\n",
      "\tSum: 92907360344\n",
      "\tMean: 1884874.7305593314\n",
      "\tMedian: 1893607\n",
      "\tStandard Deviation: 31677.709019689657\n",
      "\tUnique values: 27013\n",
      "\t5 most frequent values:\n",
      "\t\t1895173:\t97\n",
      "\t\t1908425:\t81\n",
      "\t\t1886573:\t69\n",
      "\t\t1897670:\t64\n",
      "\t\t1875603:\t55\n",
      " 18. 2010\n",
      "\t<class 'int'>\n",
      "\tNulls: False\n",
      "\tMin: 2001\n",
      "\tMax: 2016\n",
      "\tSum: 100359610\n",
      "\tMean: 2007.232344646893\n",
      "\tMedian: 2007\n",
      "\tStandard Deviation: 4.177107373442042\n",
      "\tUnique values: 16\n",
      "\t5 most frequent values:\n",
      "\t\t2004:\t4224\n",
      "\t\t2006:\t4045\n",
      "\t\t2007:\t4010\n",
      "\t\t2003:\t3963\n",
      "\t\t2005:\t3959\n",
      " 19. 02/04/2016 06:33:39 AM\n",
      "\t<class 'datetime.datetime'>\n",
      "\tNulls: False\n",
      "\tMin: 2015-08-17 15:03:40\n",
      "\tMax: 2016-12-05 15:54:58\n",
      "\tUnique values: 429\n",
      "\t5 most frequent values:\n",
      "\t\t2016-04-15 08:55:02:\t23761\n",
      "\t\t2016-02-04 06:33:39:\t19465\n",
      "\t\t2015-08-17 15:03:40:\t5175\n",
      "\t\t2016-04-15 15:49:27:\t91\n",
      "\t\t2015-10-09 15:58:54:\t43\n",
      " 20. 41.880458148\n",
      "\t<class 'float'>\n",
      "\tNulls: True\n",
      "\tMin: 36.619446395\n",
      "\tMax: 42.022642492\n",
      "\tSum: 2062322.9723300962\n",
      "\tMean: 41.83974705991147\n",
      "\tMedian: 41.863900023\n",
      "\tStandard Deviation: 0.08728861885925286\n",
      "\tUnique values: 35857\n",
      "\t5 most frequent values:\n",
      "\t\t41.868180939:\t97\n",
      "\t\t41.904192368:\t81\n",
      "\t\t41.844112707:\t69\n",
      "\t\t41.814007401:\t55\n",
      "\t\t41.829879483:\t54\n",
      " 21. -87.748259978\n",
      "\t<class 'float'>\n",
      "\tNulls: True\n",
      "\tMin: -91.686565684\n",
      "\tMax: -87.525258049\n",
      "\tSum: -4321913.561848622\n",
      "\tMean: -87.68159627211097\n",
      "\tMedian: -87.686407102\n",
      "\tStandard Deviation: 0.06528753105392751\n",
      "\tUnique values: 35854\n",
      "\t5 most frequent values:\n",
      "\t\t-87.709271389:\t97\n",
      "\t\t-87.647000785:\t81\n",
      "\t\t-87.628445336:\t69\n",
      "\t\t-87.628331665:\t55\n",
      "\t\t-87.612291851:\t54\n",
      " 22. (41.880458148, -87.748259978)\n",
      "\t<class 'str'>\n",
      "\tNulls: True\n",
      "\tUnique values: 35862\n",
      "\t5 most frequent values:\n",
      "\t\t(41.868180939, -87.709271389):\t97\n",
      "\t\t(41.904192368, -87.647000785):\t81\n",
      "\t\t(41.844112707, -87.628445336):\t69\n",
      "\t\t(41.814007401, -87.628331665):\t55\n",
      "\t\t(41.829879483, -87.612291851):\t54\n",
      "\tMax length: 29\n",
      "\n",
      "Row count: 49999\n"
     ]
    }
   ],
   "source": [
    "!shuf -n 50000 narcotics.csv | csvstat"
   ]
  },
  {
   "cell_type": "markdown",
   "metadata": {
    "slideshow": {
     "slide_type": "slide"
    }
   },
   "source": [
    "### Step1.3. We define a database table in the database and load this dataset into the database."
   ]
  },
  {
   "cell_type": "code",
   "execution_count": 12,
   "metadata": {
    "collapsed": false,
    "slideshow": {
     "slide_type": "slide"
    }
   },
   "outputs": [
    {
     "name": "stdout",
     "output_type": "stream",
     "text": [
      "Done.\n",
      "Done.\n"
     ]
    },
    {
     "data": {
      "text/plain": [
       "[]"
      ]
     },
     "execution_count": 12,
     "metadata": {},
     "output_type": "execute_result"
    }
   ],
   "source": [
    "%%sql\n",
    "DROP TABLE IF EXISTS Narcotics;\n",
    "CREATE TABLE Narcotics (\n",
    "    ID INTEGER,\n",
    "    Case_Number CHAR(15),\n",
    "    Date TIMESTAMP,\n",
    "    Block VARCHAR(40),\n",
    "    IUCR INTEGER,\n",
    "    Primary_Type CHAR(15),\n",
    "    Description VARCHAR(100),\n",
    "    Location_Description VARCHAR(100),\n",
    "    Arrest VARCHAR(5),\n",
    "    Domestic VARCHAR(5),\n",
    "    Beat CHAR(4),\n",
    "    District CHAR(3),\n",
    "    Ward INTEGER,\n",
    "    Community_Area INTEGER,\n",
    "    FBI_Code INTEGER,\n",
    "    X_Coordinate INTEGER,\n",
    "    Y_Coordinate INTEGER,\n",
    "    Year INTEGER,\n",
    "    Updated_On TIMESTAMP,\n",
    "    Latitude FLOAT,\n",
    "    Longitude FLOAT,\n",
    "    Location VARCHAR(35)\n",
    ");"
   ]
  },
  {
   "cell_type": "code",
   "execution_count": 13,
   "metadata": {
    "collapsed": false,
    "slideshow": {
     "slide_type": "skip"
    }
   },
   "outputs": [
    {
     "name": "stdout",
     "output_type": "stream",
     "text": [
      "686027 rows affected.\n"
     ]
    },
    {
     "data": {
      "text/plain": [
       "[]"
      ]
     },
     "execution_count": 13,
     "metadata": {},
     "output_type": "execute_result"
    }
   ],
   "source": [
    "%%sql\n",
    "COPY Narcotics FROM '/home/jovyan/work/narcotics.csv'\n",
    "CSV\n",
    "HEADER\n",
    "QUOTE '\"'\n",
    "DELIMITER ',';"
   ]
  },
  {
   "cell_type": "markdown",
   "metadata": {
    "slideshow": {
     "slide_type": "skip"
    }
   },
   "source": [
    "### Step1.4. We run a COUNT(*) query to verify that all the data has loaded correctly."
   ]
  },
  {
   "cell_type": "code",
   "execution_count": 14,
   "metadata": {
    "collapsed": false,
    "slideshow": {
     "slide_type": "skip"
    }
   },
   "outputs": [
    {
     "name": "stdout",
     "output_type": "stream",
     "text": [
      "1 rows affected.\n"
     ]
    },
    {
     "data": {
      "text/html": [
       "<table>\n",
       "    <tr>\n",
       "        <th>count</th>\n",
       "    </tr>\n",
       "    <tr>\n",
       "        <td>686027</td>\n",
       "    </tr>\n",
       "</table>"
      ],
      "text/plain": [
       "[(686027,)]"
      ]
     },
     "execution_count": 14,
     "metadata": {},
     "output_type": "execute_result"
    }
   ],
   "source": [
    "%%sql\n",
    "SELECT COUNT(*) FROM Narcotics;"
   ]
  },
  {
   "cell_type": "markdown",
   "metadata": {
    "slideshow": {
     "slide_type": "slide"
    }
   },
   "source": [
    "### Step1.5. Drop columns which we'll not use for futher analysis: Case number(a second unique idetifier), Primary type(narcotics), Domestic, FBI code, X coordinate and Y coordinate, Updated_On and Location."
   ]
  },
  {
   "cell_type": "code",
   "execution_count": 15,
   "metadata": {
    "collapsed": false,
    "slideshow": {
     "slide_type": "skip"
    }
   },
   "outputs": [
    {
     "name": "stdout",
     "output_type": "stream",
     "text": [
      "Done.\n"
     ]
    },
    {
     "data": {
      "text/plain": [
       "[]"
      ]
     },
     "execution_count": 15,
     "metadata": {},
     "output_type": "execute_result"
    }
   ],
   "source": [
    "%%sql\n",
    "ALTER TABLE Narcotics\n",
    "DROP Case_Number, \n",
    "DROP Primary_Type,\n",
    "DROP Domestic,\n",
    "DROP FBI_Code,\n",
    "DROP X_Coordinate,\n",
    "DROP Y_Coordinate,\n",
    "DROP Updated_On,\n",
    "DROP Location;"
   ]
  },
  {
   "cell_type": "markdown",
   "metadata": {
    "slideshow": {
     "slide_type": "slide"
    }
   },
   "source": [
    "### Step1.6. We handle null values which is to set their values to 999."
   ]
  },
  {
   "cell_type": "code",
   "execution_count": null,
   "metadata": {
    "collapsed": true
   },
   "outputs": [],
   "source": [
    "%%sql\n",
    "UPDATE Narcotics\n",
    "SET Location_Description = 999   \n",
    "WHERE Location_Description IS NULL;    "
   ]
  },
  {
   "cell_type": "code",
   "execution_count": null,
   "metadata": {
    "collapsed": true
   },
   "outputs": [],
   "source": [
    "%%sql\n",
    "UPDATE Narcotics\n",
    "SET District = 999   \n",
    "WHERE District IS NULL;    "
   ]
  },
  {
   "cell_type": "code",
   "execution_count": 16,
   "metadata": {
    "collapsed": false,
    "slideshow": {
     "slide_type": "skip"
    }
   },
   "outputs": [
    {
     "name": "stdout",
     "output_type": "stream",
     "text": [
      "67321 rows affected.\n"
     ]
    },
    {
     "data": {
      "text/plain": [
       "[]"
      ]
     },
     "execution_count": 16,
     "metadata": {},
     "output_type": "execute_result"
    }
   ],
   "source": [
    "%%sql\n",
    "UPDATE Narcotics\n",
    "SET Ward = 999    \n",
    "WHERE Ward IS NULL;   "
   ]
  },
  {
   "cell_type": "code",
   "execution_count": 17,
   "metadata": {
    "collapsed": false,
    "slideshow": {
     "slide_type": "skip"
    }
   },
   "outputs": [
    {
     "name": "stdout",
     "output_type": "stream",
     "text": [
      "67419 rows affected.\n"
     ]
    },
    {
     "data": {
      "text/plain": [
       "[]"
      ]
     },
     "execution_count": 17,
     "metadata": {},
     "output_type": "execute_result"
    }
   ],
   "source": [
    "%%sql\n",
    "UPDATE Narcotics\n",
    "SET Community_Area = 999    \n",
    "WHERE Community_Area IS NULL; "
   ]
  },
  {
   "cell_type": "code",
   "execution_count": 18,
   "metadata": {
    "collapsed": false,
    "slideshow": {
     "slide_type": "skip"
    }
   },
   "outputs": [
    {
     "name": "stdout",
     "output_type": "stream",
     "text": [
      "9888 rows affected.\n"
     ]
    },
    {
     "data": {
      "text/plain": [
       "[]"
      ]
     },
     "execution_count": 18,
     "metadata": {},
     "output_type": "execute_result"
    }
   ],
   "source": [
    "%%sql\n",
    "UPDATE Narcotics\n",
    "SET Latitude = 999    \n",
    "WHERE Latitude IS NULL;   "
   ]
  },
  {
   "cell_type": "code",
   "execution_count": 19,
   "metadata": {
    "collapsed": false,
    "slideshow": {
     "slide_type": "skip"
    }
   },
   "outputs": [
    {
     "name": "stdout",
     "output_type": "stream",
     "text": [
      "9888 rows affected.\n"
     ]
    },
    {
     "data": {
      "text/plain": [
       "[]"
      ]
     },
     "execution_count": 19,
     "metadata": {},
     "output_type": "execute_result"
    }
   ],
   "source": [
    "%%sql\n",
    "UPDATE Narcotics\n",
    "SET Longitude = 999    \n",
    "WHERE Longitude IS NULL;"
   ]
  },
  {
   "cell_type": "code",
   "execution_count": 20,
   "metadata": {
    "collapsed": false,
    "slideshow": {
     "slide_type": "skip"
    }
   },
   "outputs": [
    {
     "name": "stdout",
     "output_type": "stream",
     "text": [
      "3 rows affected.\n"
     ]
    },
    {
     "data": {
      "text/html": [
       "<table>\n",
       "    <tr>\n",
       "        <th>id</th>\n",
       "        <th>date</th>\n",
       "        <th>block</th>\n",
       "        <th>iucr</th>\n",
       "        <th>description</th>\n",
       "        <th>location_description</th>\n",
       "        <th>arrest</th>\n",
       "        <th>domestic</th>\n",
       "        <th>beat</th>\n",
       "        <th>district</th>\n",
       "        <th>ward</th>\n",
       "        <th>community_area</th>\n",
       "        <th>year</th>\n",
       "        <th>updated_on</th>\n",
       "        <th>latitude</th>\n",
       "        <th>longitude</th>\n",
       "    </tr>\n",
       "    <tr>\n",
       "        <td>6263247</td>\n",
       "        <td>2008-05-07 16:10:00</td>\n",
       "        <td>053XX S KEDZIE AVE</td>\n",
       "        <td>1811</td>\n",
       "        <td>POSS: CANNABIS 30GMS OR LESS</td>\n",
       "        <td>STREET</td>\n",
       "        <td>true</td>\n",
       "        <td>false</td>\n",
       "        <td>0822</td>\n",
       "        <td>008</td>\n",
       "        <td>14</td>\n",
       "        <td>63</td>\n",
       "        <td>2008</td>\n",
       "        <td>2015-08-17 15:03:40</td>\n",
       "        <td>0.0</td>\n",
       "        <td>0.0</td>\n",
       "    </tr>\n",
       "    <tr>\n",
       "        <td>6323488</td>\n",
       "        <td>2008-06-04 12:35:00</td>\n",
       "        <td>025XX N MILWAUKEE AVE</td>\n",
       "        <td>2014</td>\n",
       "        <td>MANU/DELIVER: HEROIN (WHITE)</td>\n",
       "        <td>PARKING LOT/GARAGE(NON.RESID.)</td>\n",
       "        <td>true</td>\n",
       "        <td>false</td>\n",
       "        <td>1414</td>\n",
       "        <td>014</td>\n",
       "        <td>35</td>\n",
       "        <td>22</td>\n",
       "        <td>2008</td>\n",
       "        <td>2015-08-17 15:03:40</td>\n",
       "        <td>0.0</td>\n",
       "        <td>0.0</td>\n",
       "    </tr>\n",
       "    <tr>\n",
       "        <td>6339707</td>\n",
       "        <td>2008-06-19 12:23:00</td>\n",
       "        <td>005XX E 47TH ST</td>\n",
       "        <td>2017</td>\n",
       "        <td>MANU/DELIVER:CRACK</td>\n",
       "        <td>SIDEWALK</td>\n",
       "        <td>true</td>\n",
       "        <td>false</td>\n",
       "        <td>0222</td>\n",
       "        <td>002</td>\n",
       "        <td>3</td>\n",
       "        <td>38</td>\n",
       "        <td>2008</td>\n",
       "        <td>2015-08-17 15:03:40</td>\n",
       "        <td>0.0</td>\n",
       "        <td>0.0</td>\n",
       "    </tr>\n",
       "</table>"
      ],
      "text/plain": [
       "[(6263247, datetime.datetime(2008, 5, 7, 16, 10), '053XX S KEDZIE AVE', 1811, 'POSS: CANNABIS 30GMS OR LESS', 'STREET', 'true', 'false', '0822', '008', 14, 63, 2008, datetime.datetime(2015, 8, 17, 15, 3, 40), 0.0, 0.0),\n",
       " (6323488, datetime.datetime(2008, 6, 4, 12, 35), '025XX N MILWAUKEE AVE', 2014, 'MANU/DELIVER: HEROIN (WHITE)', 'PARKING LOT/GARAGE(NON.RESID.)', 'true', 'false', '1414', '014', 35, 22, 2008, datetime.datetime(2015, 8, 17, 15, 3, 40), 0.0, 0.0),\n",
       " (6339707, datetime.datetime(2008, 6, 19, 12, 23), '005XX E 47TH ST', 2017, 'MANU/DELIVER:CRACK', 'SIDEWALK', 'true', 'false', '0222', '002', 3, 38, 2008, datetime.datetime(2015, 8, 17, 15, 3, 40), 0.0, 0.0)]"
      ]
     },
     "execution_count": 20,
     "metadata": {},
     "output_type": "execute_result"
    }
   ],
   "source": [
    "%%sql\n",
    "SELECT * \n",
    "FROM Narcotics\n",
    "LIMIT 3;"
   ]
  },
  {
   "cell_type": "markdown",
   "metadata": {
    "slideshow": {
     "slide_type": "skip"
    }
   },
   "source": [
    "## Stage2. In this stage, we create a fact table and dimension tables. The reason why we choose star schema is that  we want to use simpler queries based on a star schema model which will improve performance for aggregation operations. After we build a star schema, we can explore more reasonable questions by joining a fact table with deminsion tables.  "
   ]
  },
  {
   "cell_type": "markdown",
   "metadata": {
    "slideshow": {
     "slide_type": "skip"
    }
   },
   "source": [
    "### Step2.1. We create a location dimension table."
   ]
  },
  {
   "cell_type": "code",
   "execution_count": 21,
   "metadata": {
    "collapsed": false,
    "slideshow": {
     "slide_type": "skip"
    }
   },
   "outputs": [
    {
     "name": "stdout",
     "output_type": "stream",
     "text": [
      "Done.\n",
      "Done.\n"
     ]
    },
    {
     "data": {
      "text/plain": [
       "[]"
      ]
     },
     "execution_count": 21,
     "metadata": {},
     "output_type": "execute_result"
    }
   ],
   "source": [
    "%%sql\n",
    "DROP TABLE IF EXISTS Location;\n",
    "CREATE TABLE Location(\n",
    "    location_key SERIAL,\n",
    "    Block VARCHAR(40),\n",
    "    Location_Description VARCHAR(100),\n",
    "    Ward INTEGER,\n",
    "    Community_Area INTEGER,\n",
    "    CONSTRAINT pk_location_key PRIMARY KEY(location_key)\n",
    ");"
   ]
  },
  {
   "cell_type": "code",
   "execution_count": 22,
   "metadata": {
    "collapsed": false,
    "slideshow": {
     "slide_type": "skip"
    }
   },
   "outputs": [
    {
     "name": "stdout",
     "output_type": "stream",
     "text": [
      "130808 rows affected.\n"
     ]
    },
    {
     "data": {
      "text/plain": [
       "[]"
      ]
     },
     "execution_count": 22,
     "metadata": {},
     "output_type": "execute_result"
    }
   ],
   "source": [
    "%%sql\n",
    "INSERT INTO Location (Block, Location_Description, Ward, Community_Area)\n",
    "SELECT DISTINCT Block, Location_Description, Ward, Community_Area\n",
    "FROM Narcotics;"
   ]
  },
  {
   "cell_type": "code",
   "execution_count": 23,
   "metadata": {
    "collapsed": false,
    "slideshow": {
     "slide_type": "skip"
    }
   },
   "outputs": [
    {
     "name": "stdout",
     "output_type": "stream",
     "text": [
      "5 rows affected.\n"
     ]
    },
    {
     "data": {
      "text/html": [
       "<table>\n",
       "    <tr>\n",
       "        <th>location_key</th>\n",
       "        <th>block</th>\n",
       "        <th>location_description</th>\n",
       "        <th>ward</th>\n",
       "        <th>community_area</th>\n",
       "    </tr>\n",
       "    <tr>\n",
       "        <td>1</td>\n",
       "        <td>0000X  I94/EXIT 12</td>\n",
       "        <td>VEHICLE NON-COMMERCIAL</td>\n",
       "        <td>27</td>\n",
       "        <td>0</td>\n",
       "    </tr>\n",
       "    <tr>\n",
       "        <td>2</td>\n",
       "        <td>0000X E 100 PL</td>\n",
       "        <td>RESIDENCE</td>\n",
       "        <td>0</td>\n",
       "        <td>0</td>\n",
       "    </tr>\n",
       "    <tr>\n",
       "        <td>3</td>\n",
       "        <td>0000X E 100 PL</td>\n",
       "        <td>SIDEWALK</td>\n",
       "        <td>0</td>\n",
       "        <td>0</td>\n",
       "    </tr>\n",
       "    <tr>\n",
       "        <td>4</td>\n",
       "        <td>0000X E 100 PL</td>\n",
       "        <td>STREET</td>\n",
       "        <td>0</td>\n",
       "        <td>0</td>\n",
       "    </tr>\n",
       "    <tr>\n",
       "        <td>5</td>\n",
       "        <td>0000X E 100 ST</td>\n",
       "        <td>RESIDENCE</td>\n",
       "        <td>0</td>\n",
       "        <td>0</td>\n",
       "    </tr>\n",
       "</table>"
      ],
      "text/plain": [
       "[(1, '0000X  I94/EXIT 12', 'VEHICLE NON-COMMERCIAL', 27, 0),\n",
       " (2, '0000X E 100 PL', 'RESIDENCE', 0, 0),\n",
       " (3, '0000X E 100 PL', 'SIDEWALK', 0, 0),\n",
       " (4, '0000X E 100 PL', 'STREET', 0, 0),\n",
       " (5, '0000X E 100 ST', 'RESIDENCE', 0, 0)]"
      ]
     },
     "execution_count": 23,
     "metadata": {},
     "output_type": "execute_result"
    }
   ],
   "source": [
    "%%sql\n",
    "SELECT * FROM location\n",
    "LIMIT 5;"
   ]
  },
  {
   "cell_type": "markdown",
   "metadata": {
    "slideshow": {
     "slide_type": "skip"
    }
   },
   "source": [
    "### Step2.2. we build a time dimension table."
   ]
  },
  {
   "cell_type": "code",
   "execution_count": 24,
   "metadata": {
    "collapsed": false,
    "slideshow": {
     "slide_type": "skip"
    }
   },
   "outputs": [
    {
     "name": "stdout",
     "output_type": "stream",
     "text": [
      "Done.\n",
      "Done.\n"
     ]
    },
    {
     "data": {
      "text/plain": [
       "[]"
      ]
     },
     "execution_count": 24,
     "metadata": {},
     "output_type": "execute_result"
    }
   ],
   "source": [
    "%%sql\n",
    "DROP TABLE IF EXISTS Time;\n",
    "CREATE TABLE Time (\n",
    "    Time_key SERIAL,\n",
    "    year_create CHAR(4), \n",
    "    quarter_create CHAR(1), \n",
    "    month_create CHAR(2), \n",
    "    day_create CHAR(2), \n",
    "    day_of_week_str_create VARCHAR(10), \n",
    "    day_of_week_create CHAR(1),\n",
    "    is_weekend_create CHAR(1),\n",
    "    is_weekday_create CHAR(1),\n",
    "    hour_24_create CHAR(2),\n",
    "    CONSTRAINT pk_Time_key PRIMARY KEY(Time_key)\n",
    ");"
   ]
  },
  {
   "cell_type": "code",
   "execution_count": 25,
   "metadata": {
    "collapsed": false,
    "slideshow": {
     "slide_type": "skip"
    }
   },
   "outputs": [
    {
     "name": "stdout",
     "output_type": "stream",
     "text": [
      "123773 rows affected.\n"
     ]
    },
    {
     "data": {
      "text/plain": [
       "[]"
      ]
     },
     "execution_count": 25,
     "metadata": {},
     "output_type": "execute_result"
    }
   ],
   "source": [
    "%%sql\n",
    "INSERT INTO Time (year_create, quarter_create, month_create, day_create, day_of_week_str_create, day_of_week_create,\n",
    "                  is_weekend_create, is_weekday_create, hour_24_create)\n",
    "SELECT DISTINCT \n",
    "    TO_CHAR(date, 'YYYY') AS year_create,\n",
    "    TO_CHAR(date, 'Q') AS quarter_create,\n",
    "    TO_CHAR(date, 'MM') AS month_create,\n",
    "    TO_CHAR(date, 'DD') AS day_create,\n",
    "    TO_CHAR(date, 'Day') AS day_of_week_str_create,\n",
    "    TO_CHAR(date, 'D') AS day_of_week_create,\n",
    "    CASE WHEN CAST(TO_CHAR(date, 'D') AS INTEGER) >= 6 \n",
    "        THEN 1 \n",
    "        ELSE 0\n",
    "    END AS is_weekend_create,\n",
    "    CASE WHEN CAST(TO_CHAR(date, 'D') AS INTEGER) < 6 \n",
    "        THEN 1 \n",
    "        ELSE 0\n",
    "    END AS is_weekday_create,\n",
    "    TO_CHAR(date, 'HH24') AS hour_24_create\n",
    "FROM Narcotics;"
   ]
  },
  {
   "cell_type": "code",
   "execution_count": null,
   "metadata": {
    "collapsed": false,
    "slideshow": {
     "slide_type": "skip"
    }
   },
   "outputs": [],
   "source": [
    "%%sql\n",
    "SELECT * FROM Time\n",
    "LIMIT 2;"
   ]
  },
  {
   "cell_type": "markdown",
   "metadata": {
    "slideshow": {
     "slide_type": "skip"
    }
   },
   "source": [
    "### Step2.3. We create a dimension table in terms of types of narcotic crimes."
   ]
  },
  {
   "cell_type": "code",
   "execution_count": 27,
   "metadata": {
    "collapsed": false,
    "slideshow": {
     "slide_type": "skip"
    }
   },
   "outputs": [
    {
     "name": "stdout",
     "output_type": "stream",
     "text": [
      "Done.\n",
      "Done.\n"
     ]
    },
    {
     "data": {
      "text/plain": [
       "[]"
      ]
     },
     "execution_count": 27,
     "metadata": {},
     "output_type": "execute_result"
    }
   ],
   "source": [
    "%%sql\n",
    "DROP TABLE IF EXISTS Type;\n",
    "CREATE TABLE Type(\n",
    "    Type_key SERIAL,\n",
    "    IUCR INTEGER,\n",
    "    Description VARCHAR(100),\n",
    "    CONSTRAINT pk_Type_key PRIMARY KEY(Type_key)\n",
    ");"
   ]
  },
  {
   "cell_type": "code",
   "execution_count": 28,
   "metadata": {
    "collapsed": false,
    "slideshow": {
     "slide_type": "skip"
    }
   },
   "outputs": [
    {
     "name": "stdout",
     "output_type": "stream",
     "text": [
      "48 rows affected.\n"
     ]
    },
    {
     "data": {
      "text/plain": [
       "[]"
      ]
     },
     "execution_count": 28,
     "metadata": {},
     "output_type": "execute_result"
    }
   ],
   "source": [
    "%%sql\n",
    "INSERT INTO Type (IUCR, Description)\n",
    "SELECT DISTINCT IUCR, Description\n",
    "FROM Narcotics;"
   ]
  },
  {
   "cell_type": "markdown",
   "metadata": {},
   "source": [
    "Since we think there should be a trend from 2001 to 2016 of different narcotics --- for example, METHAMPHETAMINES is very new compared to other types of narcotics. We added a new column---'Narcotics_type' to the dimension table which recategorizes each crime into its corresponding narcotics categories and we'll use this column later to analyze the trend of each narcotics."
   ]
  },
  {
   "cell_type": "code",
   "execution_count": null,
   "metadata": {
    "collapsed": true
   },
   "outputs": [],
   "source": [
    "%%sql\n",
    "ALTER TABLE Type\n",
    "ADD Narcotics_type VARCHAR(20); "
   ]
  },
  {
   "cell_type": "code",
   "execution_count": null,
   "metadata": {
    "collapsed": true
   },
   "outputs": [],
   "source": [
    "%%sql\n",
    "UPDATE Type\n",
    "SET Narcotics_type = 'Unknown'"
   ]
  },
  {
   "cell_type": "code",
   "execution_count": null,
   "metadata": {
    "collapsed": true
   },
   "outputs": [],
   "source": [
    "%%sql\n",
    "UPDATE Type\n",
    "SET Narcotics_type = 'CANNABIS'\n",
    "WHERE Description LIKE  '%CANNABIS%'"
   ]
  },
  {
   "cell_type": "code",
   "execution_count": null,
   "metadata": {
    "collapsed": true
   },
   "outputs": [],
   "source": [
    "%%sql\n",
    "UPDATE Type\n",
    "SET Narcotics_type = 'CRACK'\n",
    "WHERE Description LIKE  '%CRACK%'"
   ]
  },
  {
   "cell_type": "code",
   "execution_count": null,
   "metadata": {
    "collapsed": true
   },
   "outputs": [],
   "source": [
    "%%sql\n",
    "UPDATE Type\n",
    "SET Narcotics_type = 'COCAINE'\n",
    "WHERE Description LIKE  '%COCAINE%'"
   ]
  },
  {
   "cell_type": "code",
   "execution_count": null,
   "metadata": {
    "collapsed": true
   },
   "outputs": [],
   "source": [
    "%%sql\n",
    "UPDATE Type\n",
    "SET Narcotics_type = 'HEROIN'\n",
    "WHERE Description LIKE  '%HEROIN%'"
   ]
  },
  {
   "cell_type": "code",
   "execution_count": null,
   "metadata": {
    "collapsed": true
   },
   "outputs": [],
   "source": [
    "%%sql\n",
    "UPDATE Type\n",
    "SET Narcotics_type = 'HALLUCINOGENS'\n",
    "WHERE Description LIKE  '%HALLUCINOGENS%'"
   ]
  },
  {
   "cell_type": "code",
   "execution_count": null,
   "metadata": {
    "collapsed": true
   },
   "outputs": [],
   "source": [
    "%%sql\n",
    "UPDATE Type\n",
    "SET Narcotics_type = 'PCP'\n",
    "WHERE Description LIKE  '%PCP%'"
   ]
  },
  {
   "cell_type": "code",
   "execution_count": null,
   "metadata": {
    "collapsed": true
   },
   "outputs": [],
   "source": [
    "%%sql\n",
    "UPDATE Type\n",
    "SET Narcotics_type = 'SYNTHETIC DRUGS'\n",
    "WHERE Description LIKE  '%SYNTHETIC DRUGS%'"
   ]
  },
  {
   "cell_type": "code",
   "execution_count": null,
   "metadata": {
    "collapsed": true
   },
   "outputs": [],
   "source": [
    "%sql\n",
    "UPDATE Type\n",
    "SET Narcotics_type = 'BARBITUATES'\n",
    "WHERE Description LIKE  '%BARBITUATES%'"
   ]
  },
  {
   "cell_type": "code",
   "execution_count": null,
   "metadata": {
    "collapsed": true
   },
   "outputs": [],
   "source": [
    "%%sql\n",
    "UPDATE Type\n",
    "SET Narcotics_type = 'AMPHETAMINES'\n",
    "WHERE Description LIKE  '%AMPHETAMINES%'"
   ]
  },
  {
   "cell_type": "code",
   "execution_count": null,
   "metadata": {
    "collapsed": true
   },
   "outputs": [],
   "source": [
    "%%sql\n",
    "UPDATE Type\n",
    "SET Narcotics_type = 'METHAMPHETAMINES'\n",
    "WHERE Description LIKE  '%METHAMPHETAMINES%'"
   ]
  },
  {
   "cell_type": "code",
   "execution_count": null,
   "metadata": {
    "collapsed": true
   },
   "outputs": [],
   "source": [
    "%%sql\n",
    "UPDATE Type\n",
    "SET Narcotics_type = 'MARIJUANA'\n",
    "WHERE Description LIKE  '%MARIJUANA%'"
   ]
  },
  {
   "cell_type": "code",
   "execution_count": null,
   "metadata": {
    "collapsed": false,
    "slideshow": {
     "slide_type": "skip"
    }
   },
   "outputs": [],
   "source": [
    "%%sql\n",
    "SELECT * FROM Type\n",
    "LIMIT 2;"
   ]
  },
  {
   "cell_type": "markdown",
   "metadata": {
    "slideshow": {
     "slide_type": "skip"
    }
   },
   "source": [
    "### Step2.4. We create a dimension table of Police_Power."
   ]
  },
  {
   "cell_type": "code",
   "execution_count": 30,
   "metadata": {
    "collapsed": false,
    "slideshow": {
     "slide_type": "skip"
    }
   },
   "outputs": [
    {
     "name": "stdout",
     "output_type": "stream",
     "text": [
      "Done.\n",
      "Done.\n"
     ]
    },
    {
     "data": {
      "text/plain": [
       "[]"
      ]
     },
     "execution_count": 30,
     "metadata": {},
     "output_type": "execute_result"
    }
   ],
   "source": [
    "%%sql\n",
    "DROP TABLE IF EXISTS Police_Power;\n",
    "CREATE TABLE Police_Power(\n",
    "    Police_Power_key SERIAL,\n",
    "    Beat CHAR(4),\n",
    "    District CHAR(3),\n",
    "    CONSTRAINT pk_Police_Power_key PRIMARY KEY(Police_Power_key)\n",
    ");"
   ]
  },
  {
   "cell_type": "code",
   "execution_count": 31,
   "metadata": {
    "collapsed": false,
    "slideshow": {
     "slide_type": "skip"
    }
   },
   "outputs": [
    {
     "name": "stdout",
     "output_type": "stream",
     "text": [
      "459 rows affected.\n"
     ]
    },
    {
     "data": {
      "text/plain": [
       "[]"
      ]
     },
     "execution_count": 31,
     "metadata": {},
     "output_type": "execute_result"
    }
   ],
   "source": [
    "%%sql\n",
    "INSERT INTO Police_Power (Beat, District)\n",
    "SELECT DISTINCT Beat, District\n",
    "FROM Narcotics;"
   ]
  },
  {
   "cell_type": "code",
   "execution_count": 32,
   "metadata": {
    "collapsed": false,
    "slideshow": {
     "slide_type": "skip"
    }
   },
   "outputs": [
    {
     "name": "stdout",
     "output_type": "stream",
     "text": [
      "3 rows affected.\n"
     ]
    },
    {
     "data": {
      "text/html": [
       "<table>\n",
       "    <tr>\n",
       "        <th>police_power_key</th>\n",
       "        <th>beat</th>\n",
       "        <th>district</th>\n",
       "    </tr>\n",
       "    <tr>\n",
       "        <td>1</td>\n",
       "        <td>1523</td>\n",
       "        <td>015</td>\n",
       "    </tr>\n",
       "    <tr>\n",
       "        <td>2</td>\n",
       "        <td>1223</td>\n",
       "        <td>012</td>\n",
       "    </tr>\n",
       "    <tr>\n",
       "        <td>3</td>\n",
       "        <td>1831</td>\n",
       "        <td>018</td>\n",
       "    </tr>\n",
       "</table>"
      ],
      "text/plain": [
       "[(1, '1523', '015'), (2, '1223', '012'), (3, '1831', '018')]"
      ]
     },
     "execution_count": 32,
     "metadata": {},
     "output_type": "execute_result"
    }
   ],
   "source": [
    "%%sql\n",
    "SELECT * FROM Police_Power\n",
    "LIMIT 3;"
   ]
  },
  {
   "cell_type": "markdown",
   "metadata": {
    "slideshow": {
     "slide_type": "skip"
    }
   },
   "source": [
    "### Step2.5. We create a fact table."
   ]
  },
  {
   "cell_type": "code",
   "execution_count": 33,
   "metadata": {
    "collapsed": false,
    "slideshow": {
     "slide_type": "skip"
    }
   },
   "outputs": [
    {
     "name": "stdout",
     "output_type": "stream",
     "text": [
      "Done.\n",
      "Done.\n"
     ]
    },
    {
     "data": {
      "text/plain": [
       "[]"
      ]
     },
     "execution_count": 33,
     "metadata": {},
     "output_type": "execute_result"
    }
   ],
   "source": [
    "%%sql\n",
    "DROP TABLE IF EXISTS Narcotics_fact;\n",
    "CREATE TABLE Narcotics_fact (\n",
    "    ID INTEGER,\n",
    "    location_key INTEGER,\n",
    "    Time_key INTEGER,\n",
    "    Type_key INTEGER,\n",
    "    Police_Power_key INTEGER,\n",
    "    Date TIMESTAMP,\n",
    "    Latitude FLOAT,\n",
    "    Longitude FLOAT,\n",
    "    Arrest VARCHAR(5),\n",
    "    FOREIGN KEY(location_key) REFERENCES Location(location_key),\n",
    "    FOREIGN KEY(Time_key) REFERENCES Time(Time_key),\n",
    "    FOREIGN KEY(Type_key) REFERENCES Type(Type_key),\n",
    "    FOREIGN KEY(Police_Power_key) REFERENCES Police_Power(Police_Power_key)\n",
    ");"
   ]
  },
  {
   "cell_type": "code",
   "execution_count": 34,
   "metadata": {
    "collapsed": false,
    "slideshow": {
     "slide_type": "skip"
    }
   },
   "outputs": [
    {
     "name": "stdout",
     "output_type": "stream",
     "text": [
      "686027 rows affected.\n"
     ]
    },
    {
     "data": {
      "text/plain": [
       "[]"
      ]
     },
     "execution_count": 34,
     "metadata": {},
     "output_type": "execute_result"
    }
   ],
   "source": [
    "%%sql\n",
    "INSERT INTO Narcotics_fact (ID, location_key, Time_key, Type_key, Police_Power_key, Date,Latitude, Longitude,Arrest)\n",
    "SELECT ID, location_key, Time_key, Type_key, Police_Power_key, Date, Latitude, Longitude, Arrest\n",
    "FROM Narcotics\n",
    "LEFT JOIN\n",
    "Location\n",
    "ON Narcotics.Block = Location.Block\n",
    "AND Narcotics.Location_Description = Location.Location_Description\n",
    "AND Narcotics.Ward = Location.Ward\n",
    "AND Narcotics.Community_Area = Location.Community_Area\n",
    "LEFT JOIN\n",
    "Type\n",
    "ON Narcotics.IUCR = Type.IUCR\n",
    "AND Narcotics.Description = Type.Description\n",
    "LEFT JOIN \n",
    "Police_Power\n",
    "ON Narcotics.Beat = Police_Power.Beat\n",
    "AND Narcotics.District = Police_Power.District\n",
    "LEFT JOIN\n",
    "Time\n",
    "ON TO_CHAR(date, 'YYYY') = Time.year_create\n",
    "AND TO_CHAR(date, 'Q') = Time.quarter_create\n",
    "AND TO_CHAR(date, 'MM') = Time.month_create\n",
    "AND TO_CHAR(date, 'DD') = Time.day_create\n",
    "AND TO_CHAR(date, 'Day')  = Time.day_of_week_str_create\n",
    "AND TO_CHAR(date, 'HH24') = Time.hour_24_create;"
   ]
  },
  {
   "cell_type": "code",
   "execution_count": null,
   "metadata": {
    "collapsed": false,
    "scrolled": true,
    "slideshow": {
     "slide_type": "skip"
    }
   },
   "outputs": [],
   "source": [
    "%%sql\n",
    "SELECT * FROM Narcotics_fact\n",
    "LIMIT 2;"
   ]
  },
  {
   "cell_type": "code",
   "execution_count": 2,
   "metadata": {
    "collapsed": false,
    "slideshow": {
     "slide_type": "slide"
    }
   },
   "outputs": [
    {
     "data": {
      "text/html": [
       "<img src=\"https://raw.githubusercontent.com/gwsb-istm-6212-fall-2016/JingningLi/master/Final_star%2Bschema.png\" width=\"1000\" height=\"1000\"/>"
      ],
      "text/plain": [
       "<IPython.core.display.Image object>"
      ]
     },
     "execution_count": 2,
     "metadata": {},
     "output_type": "execute_result"
    }
   ],
   "source": [
    "from IPython.display import Image\n",
    "Image(url = \"https://raw.githubusercontent.com/gwsb-istm-6212-fall-2016/JingningLi/master/Final_star%2Bschema.png\", width=1000, height=1000)"
   ]
  },
  {
   "cell_type": "markdown",
   "metadata": {
    "slideshow": {
     "slide_type": "slide"
    }
   },
   "source": [
    "## Questions:\n",
    "### 1. What are the most common narcotics crime over these years?\n",
    "### 2. What percentage of narcotics crime ends in arrest in each year from 2001 to 2016?\n",
    "### 3. the trend of and proportion of Narcotics type from 2001 to 2016\n",
    "\n",
    "### 4. What is the trend of the narcotics crime frequency from 2001 to 2016?\n",
    "### 5. Narcotics crime tend to occur in which time period of day/week?\n",
    "\n",
    "### 6. Geographic ''POSS: SYNTHETIC DRUGS'' Clusters\n",
    "### 7. Mapping  ''POSS: SYNTHETIC DRUGS''\n",
    "### 8. What is the most dangerous ward from 2001 to 2016?\n",
    "\n",
    "### 9. Relationship between beat number and crime frequency among different wards.\n",
    "### 10 Relationship between beat number and arrested crime number among different wards."
   ]
  },
  {
   "cell_type": "markdown",
   "metadata": {
    "slideshow": {
     "slide_type": "skip"
    }
   },
   "source": [
    "### Part 3 - Analysis (35 points)\n",
    "Explore and analyze your data in its wrangled form. Follow through on the themes you identified in Part 1\n",
    "with queries or scripts that answer the questions you had in mind. Be clear about the answers you discover,\n",
    "discussing them and whether the results match your expectations. Include charts or other visuals that support\n",
    "your analysis. You may use Tableau, ggplot, or other tools we have not covered in class for visualization, but\n",
    "be sure to export images and to include them properly in your writeup."
   ]
  },
  {
   "cell_type": "markdown",
   "metadata": {},
   "source": [
    "### In this part, we analyze data which we previously wrangled. Then, by using star schema, we explored seven questions which based on those three blocks:  the time pattern of narcotics, the geographic pattern of narcotics crime, the relationship between police power and narcotics crime frequency. Finally, we get reasonable answers and try to provide recommendations."
   ]
  },
  {
   "cell_type": "markdown",
   "metadata": {
    "collapsed": true,
    "slideshow": {
     "slide_type": "slide"
    }
   },
   "source": [
    "### Question1. What are the most common narcotics crime over these years?"
   ]
  },
  {
   "cell_type": "code",
   "execution_count": 38,
   "metadata": {
    "collapsed": false,
    "slideshow": {
     "slide_type": "slide"
    }
   },
   "outputs": [
    {
     "name": "stdout",
     "output_type": "stream",
     "text": [
      "48 rows affected.\n"
     ]
    },
    {
     "data": {
      "text/html": [
       "<table>\n",
       "    <tr>\n",
       "        <th>description</th>\n",
       "        <th>frequency</th>\n",
       "    </tr>\n",
       "    <tr>\n",
       "        <td>POSS: CANNABIS 30GMS OR LESS</td>\n",
       "        <td>274037</td>\n",
       "    </tr>\n",
       "    <tr>\n",
       "        <td>POSS: CRACK</td>\n",
       "        <td>116765</td>\n",
       "    </tr>\n",
       "    <tr>\n",
       "        <td>POSS: HEROIN(WHITE)</td>\n",
       "        <td>87372</td>\n",
       "    </tr>\n",
       "    <tr>\n",
       "        <td>SOLICIT NARCOTICS ON PUBLICWAY</td>\n",
       "        <td>26050</td>\n",
       "    </tr>\n",
       "    <tr>\n",
       "        <td>POSS: COCAINE</td>\n",
       "        <td>23615</td>\n",
       "    </tr>\n",
       "    <tr>\n",
       "        <td>MANU/DELIVER:CRACK</td>\n",
       "        <td>23185</td>\n",
       "    </tr>\n",
       "    <tr>\n",
       "        <td>MANU/DELIVER: HEROIN (WHITE)</td>\n",
       "        <td>22459</td>\n",
       "    </tr>\n",
       "    <tr>\n",
       "        <td>ATTEMPT POSSESSION NARCOTICS</td>\n",
       "        <td>21226</td>\n",
       "    </tr>\n",
       "    <tr>\n",
       "        <td>POSS: CANNABIS MORE THAN 30GMS</td>\n",
       "        <td>16072</td>\n",
       "    </tr>\n",
       "    <tr>\n",
       "        <td>FOUND SUSPECT NARCOTICS</td>\n",
       "        <td>14464</td>\n",
       "    </tr>\n",
       "    <tr>\n",
       "        <td>MANU/DEL:CANNABIS 10GM OR LESS</td>\n",
       "        <td>9934</td>\n",
       "    </tr>\n",
       "    <tr>\n",
       "        <td>MANU/DEL:CANNABIS OVER 10 GMS</td>\n",
       "        <td>9337</td>\n",
       "    </tr>\n",
       "    <tr>\n",
       "        <td>POSSESSION OF DRUG EQUIPMENT</td>\n",
       "        <td>8492</td>\n",
       "    </tr>\n",
       "    <tr>\n",
       "        <td>ATTEMPT POSSESSION CANNABIS</td>\n",
       "        <td>4617</td>\n",
       "    </tr>\n",
       "    <tr>\n",
       "        <td>POSS: HALLUCINOGENS</td>\n",
       "        <td>3679</td>\n",
       "    </tr>\n",
       "    <tr>\n",
       "        <td>FORFEIT PROPERTY</td>\n",
       "        <td>3564</td>\n",
       "    </tr>\n",
       "    <tr>\n",
       "        <td>POSS: HEROIN(BRN/TAN)</td>\n",
       "        <td>3107</td>\n",
       "    </tr>\n",
       "    <tr>\n",
       "        <td>POSS: PCP</td>\n",
       "        <td>3104</td>\n",
       "    </tr>\n",
       "    <tr>\n",
       "        <td>POSS: SYNTHETIC DRUGS</td>\n",
       "        <td>2771</td>\n",
       "    </tr>\n",
       "    <tr>\n",
       "        <td>MANU/DELIVER:COCAINE</td>\n",
       "        <td>2450</td>\n",
       "    </tr>\n",
       "    <tr>\n",
       "        <td>ALTER/FORGE PRESCRIPTION</td>\n",
       "        <td>1383</td>\n",
       "    </tr>\n",
       "    <tr>\n",
       "        <td>POSS: BARBITUATES</td>\n",
       "        <td>1169</td>\n",
       "    </tr>\n",
       "    <tr>\n",
       "        <td>SALE/DEL HYPODERMIC NEEDLE</td>\n",
       "        <td>969</td>\n",
       "    </tr>\n",
       "    <tr>\n",
       "        <td>POS: HYPODERMIC NEEDLE</td>\n",
       "        <td>891</td>\n",
       "    </tr>\n",
       "    <tr>\n",
       "        <td>MANU/DELIVER: HEROIN(BRN/TAN)</td>\n",
       "        <td>635</td>\n",
       "    </tr>\n",
       "    <tr>\n",
       "        <td>MANU/DELIVER: HALLUCINOGEN</td>\n",
       "        <td>599</td>\n",
       "    </tr>\n",
       "    <tr>\n",
       "        <td>CRIMINAL DRUG CONSPIRACY</td>\n",
       "        <td>583</td>\n",
       "    </tr>\n",
       "    <tr>\n",
       "        <td>POSS: AMPHETAMINES</td>\n",
       "        <td>576</td>\n",
       "    </tr>\n",
       "    <tr>\n",
       "        <td>POSS: METHAMPHETAMINES</td>\n",
       "        <td>471</td>\n",
       "    </tr>\n",
       "    <tr>\n",
       "        <td>MANU/DELIVER:SYNTHETIC DRUGS</td>\n",
       "        <td>362</td>\n",
       "    </tr>\n",
       "    <tr>\n",
       "        <td>CANNABIS PLANT</td>\n",
       "        <td>351</td>\n",
       "    </tr>\n",
       "    <tr>\n",
       "        <td>POSS: HEROIN(BLACK TAR)</td>\n",
       "        <td>337</td>\n",
       "    </tr>\n",
       "    <tr>\n",
       "        <td>MANU/DELIVER:PCP</td>\n",
       "        <td>325</td>\n",
       "    </tr>\n",
       "    <tr>\n",
       "        <td>MANU/DELIVER:BARBITUATES</td>\n",
       "        <td>189</td>\n",
       "    </tr>\n",
       "    <tr>\n",
       "        <td>POSSESSION: SYNTHETIC MARIJUANA</td>\n",
       "        <td>139</td>\n",
       "    </tr>\n",
       "    <tr>\n",
       "        <td>POSS: LOOK-ALIKE DRUGS</td>\n",
       "        <td>132</td>\n",
       "    </tr>\n",
       "    <tr>\n",
       "        <td>MANU/DELIVER:AMPHETAMINES</td>\n",
       "        <td>123</td>\n",
       "    </tr>\n",
       "    <tr>\n",
       "        <td>SALE/DEL DRUG PARAPHERNALIA</td>\n",
       "        <td>114</td>\n",
       "    </tr>\n",
       "    <tr>\n",
       "        <td>MANU/DELIVER:LOOK-ALIKE DRUG</td>\n",
       "        <td>82</td>\n",
       "    </tr>\n",
       "    <tr>\n",
       "        <td>MANU/DELIVER: METHAMPHETAMINES</td>\n",
       "        <td>74</td>\n",
       "    </tr>\n",
       "    <tr>\n",
       "        <td>DEL CONT SUBS TO PERSON &lt;18</td>\n",
       "        <td>61</td>\n",
       "    </tr>\n",
       "    <tr>\n",
       "        <td>MANU/DELIVER:HEROIN(BLACK TAR)</td>\n",
       "        <td>59</td>\n",
       "    </tr>\n",
       "    <tr>\n",
       "        <td>DELIVER CANNABIS TO PERSON &lt;18</td>\n",
       "        <td>38</td>\n",
       "    </tr>\n",
       "    <tr>\n",
       "        <td>CONT SUBS:FAIL TO MAINT RECORD</td>\n",
       "        <td>30</td>\n",
       "    </tr>\n",
       "    <tr>\n",
       "        <td>MANU/POSS. W/INTENT TO DELIVER: SYNTHETIC MARIJUANA</td>\n",
       "        <td>15</td>\n",
       "    </tr>\n",
       "    <tr>\n",
       "        <td>FAILURE TO KEEP HYPO RECORDS</td>\n",
       "        <td>8</td>\n",
       "    </tr>\n",
       "    <tr>\n",
       "        <td>CALCULATED CANNABIS CONSPIRACY</td>\n",
       "        <td>6</td>\n",
       "    </tr>\n",
       "    <tr>\n",
       "        <td>FAIL REGISTER LIC:CONT SUBS</td>\n",
       "        <td>6</td>\n",
       "    </tr>\n",
       "</table>"
      ],
      "text/plain": [
       "[('POSS: CANNABIS 30GMS OR LESS', 274037),\n",
       " ('POSS: CRACK', 116765),\n",
       " ('POSS: HEROIN(WHITE)', 87372),\n",
       " ('SOLICIT NARCOTICS ON PUBLICWAY', 26050),\n",
       " ('POSS: COCAINE', 23615),\n",
       " ('MANU/DELIVER:CRACK', 23185),\n",
       " ('MANU/DELIVER: HEROIN (WHITE)', 22459),\n",
       " ('ATTEMPT POSSESSION NARCOTICS', 21226),\n",
       " ('POSS: CANNABIS MORE THAN 30GMS', 16072),\n",
       " ('FOUND SUSPECT NARCOTICS', 14464),\n",
       " ('MANU/DEL:CANNABIS 10GM OR LESS', 9934),\n",
       " ('MANU/DEL:CANNABIS OVER 10 GMS', 9337),\n",
       " ('POSSESSION OF DRUG EQUIPMENT', 8492),\n",
       " ('ATTEMPT POSSESSION CANNABIS', 4617),\n",
       " ('POSS: HALLUCINOGENS', 3679),\n",
       " ('FORFEIT PROPERTY', 3564),\n",
       " ('POSS: HEROIN(BRN/TAN)', 3107),\n",
       " ('POSS: PCP', 3104),\n",
       " ('POSS: SYNTHETIC DRUGS', 2771),\n",
       " ('MANU/DELIVER:COCAINE', 2450),\n",
       " ('ALTER/FORGE PRESCRIPTION', 1383),\n",
       " ('POSS: BARBITUATES', 1169),\n",
       " ('SALE/DEL HYPODERMIC NEEDLE', 969),\n",
       " ('POS: HYPODERMIC NEEDLE', 891),\n",
       " ('MANU/DELIVER: HEROIN(BRN/TAN)', 635),\n",
       " ('MANU/DELIVER: HALLUCINOGEN', 599),\n",
       " ('CRIMINAL DRUG CONSPIRACY', 583),\n",
       " ('POSS: AMPHETAMINES', 576),\n",
       " ('POSS: METHAMPHETAMINES', 471),\n",
       " ('MANU/DELIVER:SYNTHETIC DRUGS', 362),\n",
       " ('CANNABIS PLANT', 351),\n",
       " ('POSS: HEROIN(BLACK TAR)', 337),\n",
       " ('MANU/DELIVER:PCP', 325),\n",
       " ('MANU/DELIVER:BARBITUATES', 189),\n",
       " ('POSSESSION: SYNTHETIC MARIJUANA', 139),\n",
       " ('POSS: LOOK-ALIKE DRUGS', 132),\n",
       " ('MANU/DELIVER:AMPHETAMINES', 123),\n",
       " ('SALE/DEL DRUG PARAPHERNALIA', 114),\n",
       " ('MANU/DELIVER:LOOK-ALIKE DRUG', 82),\n",
       " ('MANU/DELIVER: METHAMPHETAMINES', 74),\n",
       " ('DEL CONT SUBS TO PERSON <18', 61),\n",
       " ('MANU/DELIVER:HEROIN(BLACK TAR)', 59),\n",
       " ('DELIVER CANNABIS TO PERSON <18', 38),\n",
       " ('CONT SUBS:FAIL TO MAINT RECORD', 30),\n",
       " ('MANU/POSS. W/INTENT TO DELIVER: SYNTHETIC MARIJUANA', 15),\n",
       " ('FAILURE TO KEEP HYPO RECORDS', 8),\n",
       " ('CALCULATED CANNABIS CONSPIRACY', 6),\n",
       " ('FAIL REGISTER LIC:CONT SUBS', 6)]"
      ]
     },
     "execution_count": 38,
     "metadata": {},
     "output_type": "execute_result"
    }
   ],
   "source": [
    "%%sql\n",
    "SELECT Description, COUNT(Description) AS Frequency\n",
    "FROM Narcotics_fact\n",
    "LEFT JOIN Type\n",
    "ON Narcotics_fact.Type_key = Type.Type_key\n",
    "GROUP BY Description\n",
    "ORDER BY Frequency DESC\n",
    ";"
   ]
  },
  {
   "cell_type": "code",
   "execution_count": 39,
   "metadata": {
    "collapsed": false,
    "slideshow": {
     "slide_type": "skip"
    }
   },
   "outputs": [
    {
     "data": {
      "text/plain": [
       "([<matplotlib.patches.Wedge at 0x7f9c5108a438>,\n",
       "  <matplotlib.patches.Wedge at 0x7f9c510960f0>,\n",
       "  <matplotlib.patches.Wedge at 0x7f9c51096dd8>,\n",
       "  <matplotlib.patches.Wedge at 0x7f9c5109fa20>,\n",
       "  <matplotlib.patches.Wedge at 0x7f9c510a36a0>,\n",
       "  <matplotlib.patches.Wedge at 0x7f9c510a7358>,\n",
       "  <matplotlib.patches.Wedge at 0x7f9c510a7f60>,\n",
       "  <matplotlib.patches.Wedge at 0x7f9c510abb70>,\n",
       "  <matplotlib.patches.Wedge at 0x7f9c50f357f0>,\n",
       "  <matplotlib.patches.Wedge at 0x7f9c50f3f470>,\n",
       "  <matplotlib.patches.Wedge at 0x7f9c50f440f0>,\n",
       "  <matplotlib.patches.Wedge at 0x7f9c50f44d30>,\n",
       "  <matplotlib.patches.Wedge at 0x7f9c50f469b0>,\n",
       "  <matplotlib.patches.Wedge at 0x7f9c50f4f630>,\n",
       "  <matplotlib.patches.Wedge at 0x7f9c50f56208>,\n",
       "  <matplotlib.patches.Wedge at 0x7f9c50f56e48>,\n",
       "  <matplotlib.patches.Wedge at 0x7f9c50f5aac8>,\n",
       "  <matplotlib.patches.Wedge at 0x7f9c50f61748>,\n",
       "  <matplotlib.patches.Wedge at 0x7f9c50f673c8>,\n",
       "  <matplotlib.patches.Wedge at 0x7f9c50f71048>,\n",
       "  <matplotlib.patches.Wedge at 0x7f9c50f71c88>,\n",
       "  <matplotlib.patches.Wedge at 0x7f9c7d993908>,\n",
       "  <matplotlib.patches.Wedge at 0x7f9c7d98a588>,\n",
       "  <matplotlib.patches.Wedge at 0x7f9c7d98d208>,\n",
       "  <matplotlib.patches.Wedge at 0x7f9c7d98de48>,\n",
       "  <matplotlib.patches.Wedge at 0x7f9c7d998ac8>,\n",
       "  <matplotlib.patches.Wedge at 0x7f9c505b10f0>,\n",
       "  <matplotlib.patches.Wedge at 0x7f9c505a1c88>,\n",
       "  <matplotlib.patches.Wedge at 0x7f9c5059e9e8>,\n",
       "  <matplotlib.patches.Wedge at 0x7f9c7d99bef0>,\n",
       "  <matplotlib.patches.Wedge at 0x7f9c7d9a7b70>,\n",
       "  <matplotlib.patches.Wedge at 0x7f9c7d9ad7f0>,\n",
       "  <matplotlib.patches.Wedge at 0x7f9c7d9b4470>,\n",
       "  <matplotlib.patches.Wedge at 0x7f9c7d9b60f0>,\n",
       "  <matplotlib.patches.Wedge at 0x7f9c7d9b6d30>,\n",
       "  <matplotlib.patches.Wedge at 0x7f9c7d9bd9b0>,\n",
       "  <matplotlib.patches.Wedge at 0x7f9c510f7630>,\n",
       "  <matplotlib.patches.Wedge at 0x7f9c510fe2b0>,\n",
       "  <matplotlib.patches.Wedge at 0x7f9c510feef0>,\n",
       "  <matplotlib.patches.Wedge at 0x7f9c51107b70>,\n",
       "  <matplotlib.patches.Wedge at 0x7f9c5110d7f0>,\n",
       "  <matplotlib.patches.Wedge at 0x7f9c5110b470>,\n",
       "  <matplotlib.patches.Wedge at 0x7f9c511110f0>,\n",
       "  <matplotlib.patches.Wedge at 0x7f9c51111d30>,\n",
       "  <matplotlib.patches.Wedge at 0x7f9c511159b0>,\n",
       "  <matplotlib.patches.Wedge at 0x7f9c5111f630>,\n",
       "  <matplotlib.patches.Wedge at 0x7f9c511232b0>,\n",
       "  <matplotlib.patches.Wedge at 0x7f9c51123ef0>],\n",
       " [<matplotlib.text.Text at 0x7f9c5108ac50>,\n",
       "  <matplotlib.text.Text at 0x7f9c51096978>,\n",
       "  <matplotlib.text.Text at 0x7f9c5109f5c0>,\n",
       "  <matplotlib.text.Text at 0x7f9c510a3240>,\n",
       "  <matplotlib.text.Text at 0x7f9c510a3eb8>,\n",
       "  <matplotlib.text.Text at 0x7f9c510a7b00>,\n",
       "  <matplotlib.text.Text at 0x7f9c510ab710>,\n",
       "  <matplotlib.text.Text at 0x7f9c50f35390>,\n",
       "  <matplotlib.text.Text at 0x7f9c50f35fd0>,\n",
       "  <matplotlib.text.Text at 0x7f9c50f3fc50>,\n",
       "  <matplotlib.text.Text at 0x7f9c50f448d0>,\n",
       "  <matplotlib.text.Text at 0x7f9c50f46550>,\n",
       "  <matplotlib.text.Text at 0x7f9c50f4f1d0>,\n",
       "  <matplotlib.text.Text at 0x7f9c50f4fd68>,\n",
       "  <matplotlib.text.Text at 0x7f9c50f569e8>,\n",
       "  <matplotlib.text.Text at 0x7f9c50f5a668>,\n",
       "  <matplotlib.text.Text at 0x7f9c50f612e8>,\n",
       "  <matplotlib.text.Text at 0x7f9c50f61f28>,\n",
       "  <matplotlib.text.Text at 0x7f9c50f67ba8>,\n",
       "  <matplotlib.text.Text at 0x7f9c50f71828>,\n",
       "  <matplotlib.text.Text at 0x7f9c7d9934a8>,\n",
       "  <matplotlib.text.Text at 0x7f9c7d98a128>,\n",
       "  <matplotlib.text.Text at 0x7f9c7d98ad68>,\n",
       "  <matplotlib.text.Text at 0x7f9c7d98d9e8>,\n",
       "  <matplotlib.text.Text at 0x7f9c7d998668>,\n",
       "  <matplotlib.text.Text at 0x7f9c7d99b2e8>,\n",
       "  <matplotlib.text.Text at 0x7f9c505a9978>,\n",
       "  <matplotlib.text.Text at 0x7f9c5059fd30>,\n",
       "  <matplotlib.text.Text at 0x7f9c7d99ba90>,\n",
       "  <matplotlib.text.Text at 0x7f9c7d9a7710>,\n",
       "  <matplotlib.text.Text at 0x7f9c7d9ad390>,\n",
       "  <matplotlib.text.Text at 0x7f9c7d9adfd0>,\n",
       "  <matplotlib.text.Text at 0x7f9c7d9b4c50>,\n",
       "  <matplotlib.text.Text at 0x7f9c7d9b68d0>,\n",
       "  <matplotlib.text.Text at 0x7f9c7d9bd550>,\n",
       "  <matplotlib.text.Text at 0x7f9c510f71d0>,\n",
       "  <matplotlib.text.Text at 0x7f9c510f7e10>,\n",
       "  <matplotlib.text.Text at 0x7f9c510fea90>,\n",
       "  <matplotlib.text.Text at 0x7f9c51107710>,\n",
       "  <matplotlib.text.Text at 0x7f9c5110d390>,\n",
       "  <matplotlib.text.Text at 0x7f9c5110dfd0>,\n",
       "  <matplotlib.text.Text at 0x7f9c5110bc50>,\n",
       "  <matplotlib.text.Text at 0x7f9c511118d0>,\n",
       "  <matplotlib.text.Text at 0x7f9c51115550>,\n",
       "  <matplotlib.text.Text at 0x7f9c5111f1d0>,\n",
       "  <matplotlib.text.Text at 0x7f9c5111fe10>,\n",
       "  <matplotlib.text.Text at 0x7f9c51123a90>,\n",
       "  <matplotlib.text.Text at 0x7f9c5112c710>])"
      ]
     },
     "execution_count": 39,
     "metadata": {},
     "output_type": "execute_result"
    },
    {
     "data": {
      "image/png": "[encoded data removed]",
      "text/plain": [
       "<matplotlib.figure.Figure at 0x7f9c51853dd8>"
      ]
     },
     "metadata": {},
     "output_type": "display_data"
    }
   ],
   "source": [
    "result = _\n",
    "result.pie()"
   ]
  },
  {
   "cell_type": "markdown",
   "metadata": {},
   "source": [
    "### Conclusion 1. The chart shows frequency of each kind of narcotics crime types. It is obvious that type \"POSS: CANNABIS 30GMS OR LESS\" is the most common narcotics crime over these years."
   ]
  },
  {
   "cell_type": "markdown",
   "metadata": {
    "collapsed": true,
    "slideshow": {
     "slide_type": "slide"
    }
   },
   "source": [
    "### 2. What percentage of narcotics crime ends in arrest in each year from 2001 to 2016?"
   ]
  },
  {
   "cell_type": "code",
   "execution_count": 47,
   "metadata": {
    "collapsed": false,
    "slideshow": {
     "slide_type": "slide"
    }
   },
   "outputs": [
    {
     "name": "stdout",
     "output_type": "stream",
     "text": [
      "16 rows affected.\n"
     ]
    },
    {
     "data": {
      "text/html": [
       "<table>\n",
       "    <tr>\n",
       "        <th>created_year</th>\n",
       "        <th>arrest_rate</th>\n",
       "    </tr>\n",
       "    <tr>\n",
       "        <td>2001</td>\n",
       "        <td>0.999841794055412</td>\n",
       "    </tr>\n",
       "    <tr>\n",
       "        <td>2002</td>\n",
       "        <td>0.999845527042422</td>\n",
       "    </tr>\n",
       "    <tr>\n",
       "        <td>2003</td>\n",
       "        <td>0.999907898614795</td>\n",
       "    </tr>\n",
       "    <tr>\n",
       "        <td>2004</td>\n",
       "        <td>0.999544339291973</td>\n",
       "    </tr>\n",
       "    <tr>\n",
       "        <td>2005</td>\n",
       "        <td>0.997990539531244</td>\n",
       "    </tr>\n",
       "    <tr>\n",
       "        <td>2006</td>\n",
       "        <td>0.98966190672424</td>\n",
       "    </tr>\n",
       "    <tr>\n",
       "        <td>2007</td>\n",
       "        <td>0.977907959011276</td>\n",
       "    </tr>\n",
       "    <tr>\n",
       "        <td>2008</td>\n",
       "        <td>0.977465757842905</td>\n",
       "    </tr>\n",
       "    <tr>\n",
       "        <td>2009</td>\n",
       "        <td>0.991961968628712</td>\n",
       "    </tr>\n",
       "    <tr>\n",
       "        <td>2010</td>\n",
       "        <td>0.997718526029544</td>\n",
       "    </tr>\n",
       "    <tr>\n",
       "        <td>2011</td>\n",
       "        <td>0.998368129306325</td>\n",
       "    </tr>\n",
       "    <tr>\n",
       "        <td>2012</td>\n",
       "        <td>0.992588626500592</td>\n",
       "    </tr>\n",
       "    <tr>\n",
       "        <td>2013</td>\n",
       "        <td>0.985590440487348</td>\n",
       "    </tr>\n",
       "    <tr>\n",
       "        <td>2014</td>\n",
       "        <td>0.99488791406169</td>\n",
       "    </tr>\n",
       "    <tr>\n",
       "        <td>2015</td>\n",
       "        <td>0.999664232351213</td>\n",
       "    </tr>\n",
       "    <tr>\n",
       "        <td>2016</td>\n",
       "        <td>0.999472109801161</td>\n",
       "    </tr>\n",
       "</table>"
      ],
      "text/plain": [
       "[('2001', 0.999841794055412),\n",
       " ('2002', 0.999845527042422),\n",
       " ('2003', 0.999907898614795),\n",
       " ('2004', 0.999544339291973),\n",
       " ('2005', 0.997990539531244),\n",
       " ('2006', 0.98966190672424),\n",
       " ('2007', 0.977907959011276),\n",
       " ('2008', 0.977465757842905),\n",
       " ('2009', 0.991961968628712),\n",
       " ('2010', 0.997718526029544),\n",
       " ('2011', 0.998368129306325),\n",
       " ('2012', 0.992588626500592),\n",
       " ('2013', 0.985590440487348),\n",
       " ('2014', 0.99488791406169),\n",
       " ('2015', 0.999664232351213),\n",
       " ('2016', 0.999472109801161)]"
      ]
     },
     "execution_count": 47,
     "metadata": {},
     "output_type": "execute_result"
    }
   ],
   "source": [
    "%%sql\n",
    "SELECT created_year_total AS created_year, (cast(arrest_num_per_year as double precision)/total_num_per_year) AS arrest_rate\n",
    "FROM(\n",
    "    (SELECT year_create AS created_year_total ,COUNT(*) AS total_num_per_year\n",
    "    FROM Narcotics_fact\n",
    "    LEFT JOIN Time\n",
    "    ON Narcotics_fact.Time_key = Time.Time_key\n",
    "    GROUP BY year_create\n",
    "    ORDER BY year_create) AS a\n",
    "    INNER JOIN\n",
    "    (SELECT year_create AS created_year_arrest, COUNT(*) AS arrest_num_per_year\n",
    "    FROM Narcotics_fact\n",
    "    LEFT JOIN Time\n",
    "    ON Narcotics_fact.Time_key = Time.Time_key\n",
    "    WHERE Narcotics_fact.arrest Like 'true'\n",
    "    GROUP BY year_create\n",
    "    ORDER BY year_create) AS b\n",
    "    ON a.created_year_total = b.created_year_arrest)AS c;"
   ]
  },
  {
   "cell_type": "markdown",
   "metadata": {},
   "source": [
    "### Conclusion 2. First, the concept \"arrest_rate\" means number of crimes end in arrest divided by total number of narcotics crime. Second, the result presents that the arrest_rate over these years approximately approach 100%,  that means almost all narcotics criminals would be caught."
   ]
  },
  {
   "cell_type": "markdown",
   "metadata": {},
   "source": [
    "### 3. What is the trend of  Narcotics type from 2001 to 2016"
   ]
  },
  {
   "cell_type": "code",
   "execution_count": null,
   "metadata": {
    "collapsed": true
   },
   "outputs": [],
   "source": [
    "%%sql\n",
    "SELECT year_create, narcotics_type, COUNT(narcotics_type) AS Frequency\n",
    "FROM Narcotics_fact\n",
    "LEFT JOIN Type\n",
    "ON Narcotics_fact.Type_key = Type.Type_key\n",
    "LEFT JOIN TIME\n",
    "ON Narcotics_fact.Time_key = Time.Time_key\n",
    "WHERE Narcotics_type != 'Unknown'\n",
    "GROUP BY year_create, Narcotics_type\n",
    "ORDER BY year_create\n",
    ";"
   ]
  },
  {
   "cell_type": "code",
   "execution_count": null,
   "metadata": {
    "collapsed": true
   },
   "outputs": [],
   "source": [
    "df = _.DataFrame()\n",
    "df.dtypes"
   ]
  },
  {
   "cell_type": "code",
   "execution_count": null,
   "metadata": {
    "collapsed": true
   },
   "outputs": [],
   "source": [
    "! pip install seaborn"
   ]
  },
  {
   "cell_type": "code",
   "execution_count": null,
   "metadata": {
    "collapsed": true
   },
   "outputs": [],
   "source": [
    "import seaborn as sns\n",
    "fig = sns.factorplot(x='year_create', y='frequency', hue='narcotics_type', data=df, size=15)\n",
    "fig.set_xticklabels(rotation=30)"
   ]
  },
  {
   "cell_type": "markdown",
   "metadata": {},
   "source": [
    "### Conclusion3. In this line chart, we can see that the trend of different narcotics types from 2001 to 2016. Overall, cannabis, crack and heroin are the main stream of narcotics crime. Cannabis have a trend of increase from 2001 to 2007. With the effect of economic crisis, the frequency of Cannabis decreased in 2008 but increased a little in 2009. Since 2009, it has been decreasing. However, overall Cannabis still is the most  main stream of narcotics crime. "
   ]
  },
  {
   "cell_type": "markdown",
   "metadata": {
    "slideshow": {
     "slide_type": "slide"
    }
   },
   "source": [
    "### 4. What the trend of the narcotics crime frequency these years?"
   ]
  },
  {
   "cell_type": "code",
   "execution_count": 36,
   "metadata": {
    "collapsed": false,
    "slideshow": {
     "slide_type": "slide"
    }
   },
   "outputs": [
    {
     "name": "stdout",
     "output_type": "stream",
     "text": [
      "16 rows affected.\n"
     ]
    },
    {
     "data": {
      "text/html": [
       "<table>\n",
       "    <tr>\n",
       "        <th>year_create</th>\n",
       "        <th>frequency</th>\n",
       "    </tr>\n",
       "    <tr>\n",
       "        <td>2001</td>\n",
       "        <td>50567</td>\n",
       "    </tr>\n",
       "    <tr>\n",
       "        <td>2002</td>\n",
       "        <td>51789</td>\n",
       "    </tr>\n",
       "    <tr>\n",
       "        <td>2003</td>\n",
       "        <td>54288</td>\n",
       "    </tr>\n",
       "    <tr>\n",
       "        <td>2004</td>\n",
       "        <td>57060</td>\n",
       "    </tr>\n",
       "    <tr>\n",
       "        <td>2005</td>\n",
       "        <td>56234</td>\n",
       "    </tr>\n",
       "    <tr>\n",
       "        <td>2006</td>\n",
       "        <td>55813</td>\n",
       "    </tr>\n",
       "    <tr>\n",
       "        <td>2007</td>\n",
       "        <td>54454</td>\n",
       "    </tr>\n",
       "    <tr>\n",
       "        <td>2008</td>\n",
       "        <td>46507</td>\n",
       "    </tr>\n",
       "    <tr>\n",
       "        <td>2009</td>\n",
       "        <td>43543</td>\n",
       "    </tr>\n",
       "    <tr>\n",
       "        <td>2010</td>\n",
       "        <td>43393</td>\n",
       "    </tr>\n",
       "    <tr>\n",
       "        <td>2011</td>\n",
       "        <td>38606</td>\n",
       "    </tr>\n",
       "    <tr>\n",
       "        <td>2012</td>\n",
       "        <td>35486</td>\n",
       "    </tr>\n",
       "    <tr>\n",
       "        <td>2013</td>\n",
       "        <td>34144</td>\n",
       "    </tr>\n",
       "    <tr>\n",
       "        <td>2014</td>\n",
       "        <td>28951</td>\n",
       "    </tr>\n",
       "    <tr>\n",
       "        <td>2015</td>\n",
       "        <td>23826</td>\n",
       "    </tr>\n",
       "    <tr>\n",
       "        <td>2016</td>\n",
       "        <td>11366</td>\n",
       "    </tr>\n",
       "</table>"
      ],
      "text/plain": [
       "[('2001', 50567),\n",
       " ('2002', 51789),\n",
       " ('2003', 54288),\n",
       " ('2004', 57060),\n",
       " ('2005', 56234),\n",
       " ('2006', 55813),\n",
       " ('2007', 54454),\n",
       " ('2008', 46507),\n",
       " ('2009', 43543),\n",
       " ('2010', 43393),\n",
       " ('2011', 38606),\n",
       " ('2012', 35486),\n",
       " ('2013', 34144),\n",
       " ('2014', 28951),\n",
       " ('2015', 23826),\n",
       " ('2016', 11366)]"
      ]
     },
     "execution_count": 36,
     "metadata": {},
     "output_type": "execute_result"
    }
   ],
   "source": [
    "%%sql\n",
    "SELECT year_create, COUNT(year_create) AS Frequency\n",
    "FROM Narcotics_fact\n",
    "LEFT JOIN Time\n",
    "ON Narcotics_fact.Time_key = Time.Time_key\n",
    "GROUP BY year_create\n",
    "ORDER BY year_create\n",
    ";"
   ]
  },
  {
   "cell_type": "code",
   "execution_count": null,
   "metadata": {
    "collapsed": true
   },
   "outputs": [],
   "source": [
    "import sqlalchemy as sq\n",
    "con = sq.create_engine(\"postgresql+psycopg2://dbuser@localhost:5432/Final\")"
   ]
  },
  {
   "cell_type": "code",
   "execution_count": null,
   "metadata": {
    "collapsed": true
   },
   "outputs": [],
   "source": [
    "import pandas as pd\n",
    "from matplotlib import pyplot as plt\n",
    "sql = '''\n",
    "    SELECT year_create, COUNT(year_create) AS Frequency\n",
    "    FROM Narcotics_fact\n",
    "    LEFT JOIN Time\n",
    "    ON Narcotics_fact.Time_key = Time.Time_key\n",
    "    GROUP BY year_create\n",
    "    ORDER BY year_create;\n",
    "    '''\n",
    "df = pd.read_sql(sql,con)\n",
    "sns.barplot(x='year_create', y='frequency', data=df)\n",
    "plt.xticks(rotation=90)"
   ]
  },
  {
   "cell_type": "markdown",
   "metadata": {},
   "source": [
    "### Conclusion4. In this bar chart, we can see that the trend of narcotics crime frequency is going up from 2001 and peak in 2004. After that, the number of narcotics crime is continuously decreeasing. Finally, it stands at a lower level in 2016."
   ]
  },
  {
   "cell_type": "markdown",
   "metadata": {
    "collapsed": true,
    "slideshow": {
     "slide_type": "slide"
    }
   },
   "source": [
    "### 5. Narcotics crime tend to occur in which time period of day/week?"
   ]
  },
  {
   "cell_type": "code",
   "execution_count": 48,
   "metadata": {
    "collapsed": false,
    "slideshow": {
     "slide_type": "slide"
    }
   },
   "outputs": [
    {
     "name": "stdout",
     "output_type": "stream",
     "text": [
      "7 rows affected.\n"
     ]
    },
    {
     "data": {
      "text/html": [
       "<table>\n",
       "    <tr>\n",
       "        <th>day_of_week_str_create</th>\n",
       "        <th>number_of_narcotics_crime</th>\n",
       "    </tr>\n",
       "    <tr>\n",
       "        <td>Friday   </td>\n",
       "        <td>105769</td>\n",
       "    </tr>\n",
       "    <tr>\n",
       "        <td>Thursday </td>\n",
       "        <td>104863</td>\n",
       "    </tr>\n",
       "    <tr>\n",
       "        <td>Wednesday</td>\n",
       "        <td>104570</td>\n",
       "    </tr>\n",
       "    <tr>\n",
       "        <td>Tuesday  </td>\n",
       "        <td>103055</td>\n",
       "    </tr>\n",
       "    <tr>\n",
       "        <td>Saturday </td>\n",
       "        <td>93474</td>\n",
       "    </tr>\n",
       "    <tr>\n",
       "        <td>Monday   </td>\n",
       "        <td>92941</td>\n",
       "    </tr>\n",
       "    <tr>\n",
       "        <td>Sunday   </td>\n",
       "        <td>81355</td>\n",
       "    </tr>\n",
       "</table>"
      ],
      "text/plain": [
       "[('Friday   ', 105769),\n",
       " ('Thursday ', 104863),\n",
       " ('Wednesday', 104570),\n",
       " ('Tuesday  ', 103055),\n",
       " ('Saturday ', 93474),\n",
       " ('Monday   ', 92941),\n",
       " ('Sunday   ', 81355)]"
      ]
     },
     "execution_count": 48,
     "metadata": {},
     "output_type": "execute_result"
    }
   ],
   "source": [
    "%%sql\n",
    "SELECT day_of_week_str_create, COUNT(*) AS number_of_Narcotics_Crime \n",
    "FROM Narcotics_fact\n",
    "LEFT JOIN Time\n",
    "ON Narcotics_fact.Time_key = Time.Time_key\n",
    "GROUP BY day_of_week_str_create\n",
    "ORDER BY number_of_Narcotics_Crime DESC;"
   ]
  },
  {
   "cell_type": "code",
   "execution_count": 49,
   "metadata": {
    "collapsed": false,
    "slideshow": {
     "slide_type": "slide"
    }
   },
   "outputs": [
    {
     "name": "stdout",
     "output_type": "stream",
     "text": [
      "24 rows affected.\n"
     ]
    },
    {
     "data": {
      "text/html": [
       "<table>\n",
       "    <tr>\n",
       "        <th>hour_24_create</th>\n",
       "        <th>number_of_narcotics_crime</th>\n",
       "    </tr>\n",
       "    <tr>\n",
       "        <td>00</td>\n",
       "        <td>23712</td>\n",
       "    </tr>\n",
       "    <tr>\n",
       "        <td>01</td>\n",
       "        <td>14158</td>\n",
       "    </tr>\n",
       "    <tr>\n",
       "        <td>02</td>\n",
       "        <td>8972</td>\n",
       "    </tr>\n",
       "    <tr>\n",
       "        <td>03</td>\n",
       "        <td>6132</td>\n",
       "    </tr>\n",
       "    <tr>\n",
       "        <td>04</td>\n",
       "        <td>3833</td>\n",
       "    </tr>\n",
       "    <tr>\n",
       "        <td>05</td>\n",
       "        <td>1841</td>\n",
       "    </tr>\n",
       "    <tr>\n",
       "        <td>06</td>\n",
       "        <td>3767</td>\n",
       "    </tr>\n",
       "    <tr>\n",
       "        <td>07</td>\n",
       "        <td>4535</td>\n",
       "    </tr>\n",
       "    <tr>\n",
       "        <td>08</td>\n",
       "        <td>9296</td>\n",
       "    </tr>\n",
       "    <tr>\n",
       "        <td>09</td>\n",
       "        <td>14795</td>\n",
       "    </tr>\n",
       "    <tr>\n",
       "        <td>10</td>\n",
       "        <td>28290</td>\n",
       "    </tr>\n",
       "    <tr>\n",
       "        <td>11</td>\n",
       "        <td>44415</td>\n",
       "    </tr>\n",
       "    <tr>\n",
       "        <td>12</td>\n",
       "        <td>45377</td>\n",
       "    </tr>\n",
       "    <tr>\n",
       "        <td>13</td>\n",
       "        <td>44645</td>\n",
       "    </tr>\n",
       "    <tr>\n",
       "        <td>14</td>\n",
       "        <td>41269</td>\n",
       "    </tr>\n",
       "    <tr>\n",
       "        <td>15</td>\n",
       "        <td>35041</td>\n",
       "    </tr>\n",
       "    <tr>\n",
       "        <td>16</td>\n",
       "        <td>30152</td>\n",
       "    </tr>\n",
       "    <tr>\n",
       "        <td>17</td>\n",
       "        <td>26831</td>\n",
       "    </tr>\n",
       "    <tr>\n",
       "        <td>18</td>\n",
       "        <td>36579</td>\n",
       "    </tr>\n",
       "    <tr>\n",
       "        <td>19</td>\n",
       "        <td>56307</td>\n",
       "    </tr>\n",
       "    <tr>\n",
       "        <td>20</td>\n",
       "        <td>57428</td>\n",
       "    </tr>\n",
       "    <tr>\n",
       "        <td>21</td>\n",
       "        <td>57318</td>\n",
       "    </tr>\n",
       "    <tr>\n",
       "        <td>22</td>\n",
       "        <td>51801</td>\n",
       "    </tr>\n",
       "    <tr>\n",
       "        <td>23</td>\n",
       "        <td>39533</td>\n",
       "    </tr>\n",
       "</table>"
      ],
      "text/plain": [
       "[('00', 23712),\n",
       " ('01', 14158),\n",
       " ('02', 8972),\n",
       " ('03', 6132),\n",
       " ('04', 3833),\n",
       " ('05', 1841),\n",
       " ('06', 3767),\n",
       " ('07', 4535),\n",
       " ('08', 9296),\n",
       " ('09', 14795),\n",
       " ('10', 28290),\n",
       " ('11', 44415),\n",
       " ('12', 45377),\n",
       " ('13', 44645),\n",
       " ('14', 41269),\n",
       " ('15', 35041),\n",
       " ('16', 30152),\n",
       " ('17', 26831),\n",
       " ('18', 36579),\n",
       " ('19', 56307),\n",
       " ('20', 57428),\n",
       " ('21', 57318),\n",
       " ('22', 51801),\n",
       " ('23', 39533)]"
      ]
     },
     "execution_count": 49,
     "metadata": {},
     "output_type": "execute_result"
    }
   ],
   "source": [
    "%%sql\n",
    "SELECT hour_24_create, COUNT(*) AS number_of_Narcotics_Crime \n",
    "FROM Narcotics_fact\n",
    "LEFT JOIN Time\n",
    "ON Narcotics_fact.Time_key = Time.Time_key\n",
    "GROUP BY hour_24_create\n",
    "ORDER BY hour_24_create;"
   ]
  },
  {
   "cell_type": "code",
   "execution_count": null,
   "metadata": {
    "collapsed": true
   },
   "outputs": [],
   "source": [
    "sql = '''\n",
    "    SELECT hour_24_create, COUNT(*) AS number_of_Narcotics_Crime \n",
    "    FROM Narcotics_fact\n",
    "    LEFT JOIN Time\n",
    "    ON Narcotics_fact.Time_key = Time.Time_key\n",
    "    GROUP BY hour_24_create\n",
    "    ORDER BY hour_24_create;\n",
    "    '''\n",
    "df = pd.read_sql(sql,con)\n",
    "sns.barplot(x='hour_24_create', y='number_of_narcotics_crime', data=df)\n",
    "plt.xticks(rotation=90)"
   ]
  },
  {
   "cell_type": "markdown",
   "metadata": {},
   "source": [
    "### Conclusion5. These two result show that narcotics crimes tend to occur on Firday in terms of day of week. And,  narcotics crimes tend to occur during midnight in terms of time of day. "
   ]
  },
  {
   "cell_type": "markdown",
   "metadata": {},
   "source": [
    "### 6. Geographic ''POSS: SYNTHETIC DRUGS'' Clusters"
   ]
  },
  {
   "cell_type": "code",
   "execution_count": 40,
   "metadata": {
    "collapsed": true,
    "slideshow": {
     "slide_type": "skip"
    }
   },
   "outputs": [],
   "source": [
    "!csvcut Crime.csv | csvgrep -c7 -m 'POSS: SYNTHETIC DRUGS' > Synthetic.csv"
   ]
  },
  {
   "cell_type": "code",
   "execution_count": 41,
   "metadata": {
    "collapsed": true,
    "slideshow": {
     "slide_type": "skip"
    }
   },
   "outputs": [],
   "source": [
    "import pandas as pd\n",
    "Synthetic = pd.read_csv('Synthetic.csv')"
   ]
  },
  {
   "cell_type": "code",
   "execution_count": 42,
   "metadata": {
    "collapsed": false,
    "slideshow": {
     "slide_type": "skip"
    }
   },
   "outputs": [
    {
     "name": "stdout",
     "output_type": "stream",
     "text": [
      "Collecting folium\n",
      "  Downloading folium-0.2.1.tar.gz (69kB)\n",
      "\u001b[K    100% |████████████████████████████████| 71kB 5.3MB/s \n",
      "\u001b[?25hRequirement already satisfied (use --upgrade to upgrade): Jinja2 in /opt/conda/lib/python3.5/site-packages (from folium)\n",
      "Requirement already satisfied (use --upgrade to upgrade): MarkupSafe in /opt/conda/lib/python3.5/site-packages (from Jinja2->folium)\n",
      "Building wheels for collected packages: folium\n",
      "  Running setup.py bdist_wheel for folium ... \u001b[?25l-\b \b\\\b \bdone\n",
      "\u001b[?25h  Stored in directory: /home/jovyan/.cache/pip/wheels/0c/7d/44/b16abc3193e1b2bb208fe5eaddcf200d763b45294904d2b1b8\n",
      "Successfully built folium\n",
      "Installing collected packages: folium\n",
      "Successfully installed folium-0.2.1\n",
      "\u001b[33mYou are using pip version 8.1.2, however version 9.0.1 is available.\n",
      "You should consider upgrading via the 'pip install --upgrade pip' command.\u001b[0m\n"
     ]
    }
   ],
   "source": [
    "!pip install folium"
   ]
  },
  {
   "cell_type": "code",
   "execution_count": 43,
   "metadata": {
    "collapsed": false,
    "slideshow": {
     "slide_type": "skip"
    }
   },
   "outputs": [],
   "source": [
    "import folium\n",
    "from folium.plugins import MarkerCluster"
   ]
  },
  {
   "cell_type": "code",
   "execution_count": 44,
   "metadata": {
    "collapsed": false,
    "slideshow": {
     "slide_type": "skip"
    }
   },
   "outputs": [],
   "source": [
    "latitudes = []\n",
    "longitudes = []\n",
    "for index, row in Synthetic.iterrows():\n",
    "    latitudes.append(row['Latitude'])\n",
    "    longitudes.append(row['Longitude'])    "
   ]
  },
  {
   "cell_type": "code",
   "execution_count": null,
   "metadata": {
    "collapsed": false,
    "scrolled": true,
    "slideshow": {
     "slide_type": "skip"
    }
   },
   "outputs": [],
   "source": [
    "coors = zip(latitudes,longitudes)\n",
    "coords = list(coors)\n",
    "map_object = folium.Map(location=[41.881832, -87.623177], zoom_start=12,tiles='Cartodb Positron')\n",
    "map_object.add_children(MarkerCluster(locations=coords, popups=coords))\n",
    "map_object"
   ]
  },
  {
   "cell_type": "markdown",
   "metadata": {
    "slideshow": {
     "slide_type": "skip"
    }
   },
   "source": [
    "### 7. Mapping  ''POSS: SYNTHETIC DRUGS''"
   ]
  },
  {
   "cell_type": "code",
   "execution_count": null,
   "metadata": {
    "collapsed": true
   },
   "outputs": [],
   "source": [
    "latitudes=[]\n",
    "longitudes=[]\n",
    "ward=[]\n",
    "Date=[]\n",
    "Location_Description=[]\n",
    "for index, row in Synthetic.iterrows():\n",
    "    latitudes.append(row['Latitude'])\n",
    "    longitudes.append(row['Longitude'])\n",
    "    ward.append(row['Ward'])\n",
    "    Date.append(row['Date'])\n",
    "    Location_Description.append(row['Location Description'])    "
   ]
  },
  {
   "cell_type": "code",
   "execution_count": null,
   "metadata": {
    "collapsed": true
   },
   "outputs": [],
   "source": [
    "pop_up_string=list(zip(ward,Date,Location_Description))"
   ]
  },
  {
   "cell_type": "code",
   "execution_count": null,
   "metadata": {
    "collapsed": true
   },
   "outputs": [],
   "source": [
    "map_data=zip(latitudes,longitudes,pop_up_string)\n",
    "all_map_data=list(map_data)\n",
    "\n",
    "count=0\n",
    "map_object = folium.Map(location=[41.881832, -87.623177], zoom_start=11,tiles='Cartodb Positron')\n",
    "for i in all_map_data:\n",
    "    folium.CircleMarker([i[0],i[1]],\n",
    "        radius=130,\n",
    "        popup=str(i[2]),\n",
    "        ).add_to(map_object)\n",
    "    count+=1\n",
    "print(count)"
   ]
  },
  {
   "cell_type": "code",
   "execution_count": null,
   "metadata": {
    "collapsed": true
   },
   "outputs": [],
   "source": [
    "map_object"
   ]
  },
  {
   "cell_type": "markdown",
   "metadata": {},
   "source": [
    "### Conclusion 6: Due to the limit of mapping and the enormous perniciousness of synthetic drugs, we choose ''POSS: SYNTHETIC DRUGS''as our mapping topic. In this mapping we can see, there are some cluster pattern for ''POSS: SYNTHETIC DRUGS'' that the crime clustered along the river side."
   ]
  },
  {
   "cell_type": "markdown",
   "metadata": {
    "collapsed": true,
    "slideshow": {
     "slide_type": "slide"
    }
   },
   "source": [
    "### 8. What is the most dangerous ward from 2001 to 2016?"
   ]
  },
  {
   "cell_type": "code",
   "execution_count": 46,
   "metadata": {
    "collapsed": false,
    "slideshow": {
     "slide_type": "slide"
    }
   },
   "outputs": [
    {
     "name": "stdout",
     "output_type": "stream",
     "text": [
      "16 rows affected.\n"
     ]
    },
    {
     "data": {
      "text/html": [
       "<table>\n",
       "    <tr>\n",
       "        <th>year_create</th>\n",
       "        <th>ward</th>\n",
       "        <th>max_ward</th>\n",
       "    </tr>\n",
       "    <tr>\n",
       "        <td>2001</td>\n",
       "        <td>28</td>\n",
       "        <td>36</td>\n",
       "    </tr>\n",
       "    <tr>\n",
       "        <td>2002</td>\n",
       "        <td>28</td>\n",
       "        <td>3584</td>\n",
       "    </tr>\n",
       "    <tr>\n",
       "        <td>2003</td>\n",
       "        <td>28</td>\n",
       "        <td>6391</td>\n",
       "    </tr>\n",
       "    <tr>\n",
       "        <td>2004</td>\n",
       "        <td>28</td>\n",
       "        <td>6270</td>\n",
       "    </tr>\n",
       "    <tr>\n",
       "        <td>2005</td>\n",
       "        <td>28</td>\n",
       "        <td>6648</td>\n",
       "    </tr>\n",
       "    <tr>\n",
       "        <td>2006</td>\n",
       "        <td>28</td>\n",
       "        <td>6550</td>\n",
       "    </tr>\n",
       "    <tr>\n",
       "        <td>2007</td>\n",
       "        <td>28</td>\n",
       "        <td>5522</td>\n",
       "    </tr>\n",
       "    <tr>\n",
       "        <td>2008</td>\n",
       "        <td>28</td>\n",
       "        <td>4520</td>\n",
       "    </tr>\n",
       "    <tr>\n",
       "        <td>2009</td>\n",
       "        <td>28</td>\n",
       "        <td>4588</td>\n",
       "    </tr>\n",
       "    <tr>\n",
       "        <td>2010</td>\n",
       "        <td>28</td>\n",
       "        <td>4686</td>\n",
       "    </tr>\n",
       "    <tr>\n",
       "        <td>2011</td>\n",
       "        <td>28</td>\n",
       "        <td>4035</td>\n",
       "    </tr>\n",
       "    <tr>\n",
       "        <td>2012</td>\n",
       "        <td>28</td>\n",
       "        <td>3949</td>\n",
       "    </tr>\n",
       "    <tr>\n",
       "        <td>2013</td>\n",
       "        <td>28</td>\n",
       "        <td>4968</td>\n",
       "    </tr>\n",
       "    <tr>\n",
       "        <td>2014</td>\n",
       "        <td>28</td>\n",
       "        <td>4245</td>\n",
       "    </tr>\n",
       "    <tr>\n",
       "        <td>2015</td>\n",
       "        <td>28</td>\n",
       "        <td>3651</td>\n",
       "    </tr>\n",
       "    <tr>\n",
       "        <td>2016</td>\n",
       "        <td>28</td>\n",
       "        <td>1916</td>\n",
       "    </tr>\n",
       "</table>"
      ],
      "text/plain": [
       "[('2001', 28, 36),\n",
       " ('2002', 28, 3584),\n",
       " ('2003', 28, 6391),\n",
       " ('2004', 28, 6270),\n",
       " ('2005', 28, 6648),\n",
       " ('2006', 28, 6550),\n",
       " ('2007', 28, 5522),\n",
       " ('2008', 28, 4520),\n",
       " ('2009', 28, 4588),\n",
       " ('2010', 28, 4686),\n",
       " ('2011', 28, 4035),\n",
       " ('2012', 28, 3949),\n",
       " ('2013', 28, 4968),\n",
       " ('2014', 28, 4245),\n",
       " ('2015', 28, 3651),\n",
       " ('2016', 28, 1916)]"
      ]
     },
     "execution_count": 46,
     "metadata": {},
     "output_type": "execute_result"
    }
   ],
   "source": [
    "%%sql\n",
    "SELECT year_create, Ward, max_ward\n",
    "FROM(\n",
    "    SELECT year_create, Ward, occurence_ward, MAX(occurence_ward) over (partition by year_create) AS max_ward\n",
    "    FROM(\n",
    "        SELECT DISTINCT year_create, Ward, COUNT(*) AS occurence_ward\n",
    "        FROM(\n",
    "            SELECT year_create, Ward\n",
    "            FROM Narcotics_fact\n",
    "            LEFT JOIN Time ON Narcotics_fact.Time_key = Time.Time_key\n",
    "            LEFT JOIN location ON Narcotics_fact.location_key = location.location_key) AS d\n",
    "        WHERE Ward != 0\n",
    "        GROUP BY year_create,Ward\n",
    "        ORDER BY year_create ASC,occurence_ward DESC) AS the_table ) AS t\n",
    "WHERE occurence_ward = max_ward;"
   ]
  },
  {
   "cell_type": "markdown",
   "metadata": {},
   "source": [
    "### Conclusion 7. The results presents that ward 28 is the most dangerous area."
   ]
  },
  {
   "cell_type": "markdown",
   "metadata": {
    "collapsed": true,
    "slideshow": {
     "slide_type": "slide"
    }
   },
   "source": [
    "### 9.Relationship between beat number and crime frequency among different wards."
   ]
  },
  {
   "cell_type": "code",
   "execution_count": 8,
   "metadata": {
    "collapsed": false,
    "slideshow": {
     "slide_type": "skip"
    }
   },
   "outputs": [
    {
     "name": "stderr",
     "output_type": "stream",
     "text": [
      "/opt/conda/lib/python3.5/site-packages/matplotlib/font_manager.py:273: UserWarning: Matplotlib is building the font cache using fc-list. This may take a moment.\n",
      "  warnings.warn('Matplotlib is building the font cache using fc-list. This may take a moment.')\n",
      "/opt/conda/lib/python3.5/site-packages/matplotlib/font_manager.py:273: UserWarning: Matplotlib is building the font cache using fc-list. This may take a moment.\n",
      "  warnings.warn('Matplotlib is building the font cache using fc-list. This may take a moment.')\n"
     ]
    }
   ],
   "source": [
    "import pandas as pd\n",
    "import matplotlib.pyplot as plt\n",
    "import statsmodels.api as sm\n",
    "import statsmodels.graphics.regressionplots as sgr\n",
    "from statsmodels.formula.api import ols"
   ]
  },
  {
   "cell_type": "code",
   "execution_count": 10,
   "metadata": {
    "collapsed": true,
    "slideshow": {
     "slide_type": "skip"
    }
   },
   "outputs": [],
   "source": [
    "Ward_beat = pd.read_csv(\"narcotics.csv\", usecols = ['Beat','Ward'])\n",
    "Ward_beat.groupby('Ward').Beat.nunique().to_csv(\"Ward_beat.csv\")\n",
    "Ward_beat.groupby('Ward').count().to_csv(\"Ward_crime.csv\")\n",
    "Ward_Beat = pd.read_csv(\"Ward_beat.csv\", names = ['Ward', 'beat_number'])"
   ]
  },
  {
   "cell_type": "code",
   "execution_count": 53,
   "metadata": {
    "collapsed": false,
    "slideshow": {
     "slide_type": "skip"
    }
   },
   "outputs": [
    {
     "data": {
      "text/html": [
       "<div>\n",
       "<table border=\"1\" class=\"dataframe\">\n",
       "  <thead>\n",
       "    <tr style=\"text-align: right;\">\n",
       "      <th></th>\n",
       "      <th>Ward</th>\n",
       "      <th>beat_number</th>\n",
       "    </tr>\n",
       "  </thead>\n",
       "  <tbody>\n",
       "    <tr>\n",
       "      <th>0</th>\n",
       "      <td>1.0</td>\n",
       "      <td>21</td>\n",
       "    </tr>\n",
       "    <tr>\n",
       "      <th>1</th>\n",
       "      <td>2.0</td>\n",
       "      <td>33</td>\n",
       "    </tr>\n",
       "    <tr>\n",
       "      <th>2</th>\n",
       "      <td>3.0</td>\n",
       "      <td>30</td>\n",
       "    </tr>\n",
       "    <tr>\n",
       "      <th>3</th>\n",
       "      <td>4.0</td>\n",
       "      <td>16</td>\n",
       "    </tr>\n",
       "    <tr>\n",
       "      <th>4</th>\n",
       "      <td>5.0</td>\n",
       "      <td>17</td>\n",
       "    </tr>\n",
       "    <tr>\n",
       "      <th>5</th>\n",
       "      <td>6.0</td>\n",
       "      <td>15</td>\n",
       "    </tr>\n",
       "    <tr>\n",
       "      <th>6</th>\n",
       "      <td>7.0</td>\n",
       "      <td>9</td>\n",
       "    </tr>\n",
       "    <tr>\n",
       "      <th>7</th>\n",
       "      <td>8.0</td>\n",
       "      <td>13</td>\n",
       "    </tr>\n",
       "    <tr>\n",
       "      <th>8</th>\n",
       "      <td>9.0</td>\n",
       "      <td>10</td>\n",
       "    </tr>\n",
       "    <tr>\n",
       "      <th>9</th>\n",
       "      <td>10.0</td>\n",
       "      <td>10</td>\n",
       "    </tr>\n",
       "    <tr>\n",
       "      <th>10</th>\n",
       "      <td>11.0</td>\n",
       "      <td>13</td>\n",
       "    </tr>\n",
       "    <tr>\n",
       "      <th>11</th>\n",
       "      <td>12.0</td>\n",
       "      <td>17</td>\n",
       "    </tr>\n",
       "    <tr>\n",
       "      <th>12</th>\n",
       "      <td>13.0</td>\n",
       "      <td>7</td>\n",
       "    </tr>\n",
       "    <tr>\n",
       "      <th>13</th>\n",
       "      <td>14.0</td>\n",
       "      <td>12</td>\n",
       "    </tr>\n",
       "    <tr>\n",
       "      <th>14</th>\n",
       "      <td>15.0</td>\n",
       "      <td>9</td>\n",
       "    </tr>\n",
       "    <tr>\n",
       "      <th>15</th>\n",
       "      <td>16.0</td>\n",
       "      <td>20</td>\n",
       "    </tr>\n",
       "    <tr>\n",
       "      <th>16</th>\n",
       "      <td>17.0</td>\n",
       "      <td>14</td>\n",
       "    </tr>\n",
       "    <tr>\n",
       "      <th>17</th>\n",
       "      <td>18.0</td>\n",
       "      <td>7</td>\n",
       "    </tr>\n",
       "    <tr>\n",
       "      <th>18</th>\n",
       "      <td>19.0</td>\n",
       "      <td>5</td>\n",
       "    </tr>\n",
       "    <tr>\n",
       "      <th>19</th>\n",
       "      <td>20.0</td>\n",
       "      <td>24</td>\n",
       "    </tr>\n",
       "    <tr>\n",
       "      <th>20</th>\n",
       "      <td>21.0</td>\n",
       "      <td>16</td>\n",
       "    </tr>\n",
       "    <tr>\n",
       "      <th>21</th>\n",
       "      <td>22.0</td>\n",
       "      <td>4</td>\n",
       "    </tr>\n",
       "    <tr>\n",
       "      <th>22</th>\n",
       "      <td>23.0</td>\n",
       "      <td>6</td>\n",
       "    </tr>\n",
       "    <tr>\n",
       "      <th>23</th>\n",
       "      <td>24.0</td>\n",
       "      <td>12</td>\n",
       "    </tr>\n",
       "    <tr>\n",
       "      <th>24</th>\n",
       "      <td>25.0</td>\n",
       "      <td>16</td>\n",
       "    </tr>\n",
       "    <tr>\n",
       "      <th>25</th>\n",
       "      <td>26.0</td>\n",
       "      <td>17</td>\n",
       "    </tr>\n",
       "    <tr>\n",
       "      <th>26</th>\n",
       "      <td>27.0</td>\n",
       "      <td>30</td>\n",
       "    </tr>\n",
       "    <tr>\n",
       "      <th>27</th>\n",
       "      <td>28.0</td>\n",
       "      <td>24</td>\n",
       "    </tr>\n",
       "    <tr>\n",
       "      <th>28</th>\n",
       "      <td>29.0</td>\n",
       "      <td>11</td>\n",
       "    </tr>\n",
       "    <tr>\n",
       "      <th>29</th>\n",
       "      <td>30.0</td>\n",
       "      <td>12</td>\n",
       "    </tr>\n",
       "    <tr>\n",
       "      <th>30</th>\n",
       "      <td>31.0</td>\n",
       "      <td>11</td>\n",
       "    </tr>\n",
       "    <tr>\n",
       "      <th>31</th>\n",
       "      <td>32.0</td>\n",
       "      <td>20</td>\n",
       "    </tr>\n",
       "    <tr>\n",
       "      <th>32</th>\n",
       "      <td>33.0</td>\n",
       "      <td>6</td>\n",
       "    </tr>\n",
       "    <tr>\n",
       "      <th>33</th>\n",
       "      <td>34.0</td>\n",
       "      <td>9</td>\n",
       "    </tr>\n",
       "    <tr>\n",
       "      <th>34</th>\n",
       "      <td>35.0</td>\n",
       "      <td>13</td>\n",
       "    </tr>\n",
       "    <tr>\n",
       "      <th>35</th>\n",
       "      <td>36.0</td>\n",
       "      <td>7</td>\n",
       "    </tr>\n",
       "    <tr>\n",
       "      <th>36</th>\n",
       "      <td>37.0</td>\n",
       "      <td>11</td>\n",
       "    </tr>\n",
       "    <tr>\n",
       "      <th>37</th>\n",
       "      <td>38.0</td>\n",
       "      <td>9</td>\n",
       "    </tr>\n",
       "    <tr>\n",
       "      <th>38</th>\n",
       "      <td>39.0</td>\n",
       "      <td>7</td>\n",
       "    </tr>\n",
       "    <tr>\n",
       "      <th>39</th>\n",
       "      <td>40.0</td>\n",
       "      <td>9</td>\n",
       "    </tr>\n",
       "    <tr>\n",
       "      <th>40</th>\n",
       "      <td>41.0</td>\n",
       "      <td>10</td>\n",
       "    </tr>\n",
       "    <tr>\n",
       "      <th>41</th>\n",
       "      <td>42.0</td>\n",
       "      <td>17</td>\n",
       "    </tr>\n",
       "    <tr>\n",
       "      <th>42</th>\n",
       "      <td>43.0</td>\n",
       "      <td>11</td>\n",
       "    </tr>\n",
       "    <tr>\n",
       "      <th>43</th>\n",
       "      <td>44.0</td>\n",
       "      <td>11</td>\n",
       "    </tr>\n",
       "    <tr>\n",
       "      <th>44</th>\n",
       "      <td>45.0</td>\n",
       "      <td>7</td>\n",
       "    </tr>\n",
       "    <tr>\n",
       "      <th>45</th>\n",
       "      <td>46.0</td>\n",
       "      <td>15</td>\n",
       "    </tr>\n",
       "    <tr>\n",
       "      <th>46</th>\n",
       "      <td>47.0</td>\n",
       "      <td>9</td>\n",
       "    </tr>\n",
       "    <tr>\n",
       "      <th>47</th>\n",
       "      <td>48.0</td>\n",
       "      <td>12</td>\n",
       "    </tr>\n",
       "    <tr>\n",
       "      <th>48</th>\n",
       "      <td>49.0</td>\n",
       "      <td>7</td>\n",
       "    </tr>\n",
       "    <tr>\n",
       "      <th>49</th>\n",
       "      <td>50.0</td>\n",
       "      <td>6</td>\n",
       "    </tr>\n",
       "  </tbody>\n",
       "</table>\n",
       "</div>"
      ],
      "text/plain": [
       "    Ward  beat_number\n",
       "0    1.0           21\n",
       "1    2.0           33\n",
       "2    3.0           30\n",
       "3    4.0           16\n",
       "4    5.0           17\n",
       "5    6.0           15\n",
       "6    7.0            9\n",
       "7    8.0           13\n",
       "8    9.0           10\n",
       "9   10.0           10\n",
       "10  11.0           13\n",
       "11  12.0           17\n",
       "12  13.0            7\n",
       "13  14.0           12\n",
       "14  15.0            9\n",
       "15  16.0           20\n",
       "16  17.0           14\n",
       "17  18.0            7\n",
       "18  19.0            5\n",
       "19  20.0           24\n",
       "20  21.0           16\n",
       "21  22.0            4\n",
       "22  23.0            6\n",
       "23  24.0           12\n",
       "24  25.0           16\n",
       "25  26.0           17\n",
       "26  27.0           30\n",
       "27  28.0           24\n",
       "28  29.0           11\n",
       "29  30.0           12\n",
       "30  31.0           11\n",
       "31  32.0           20\n",
       "32  33.0            6\n",
       "33  34.0            9\n",
       "34  35.0           13\n",
       "35  36.0            7\n",
       "36  37.0           11\n",
       "37  38.0            9\n",
       "38  39.0            7\n",
       "39  40.0            9\n",
       "40  41.0           10\n",
       "41  42.0           17\n",
       "42  43.0           11\n",
       "43  44.0           11\n",
       "44  45.0            7\n",
       "45  46.0           15\n",
       "46  47.0            9\n",
       "47  48.0           12\n",
       "48  49.0            7\n",
       "49  50.0            6"
      ]
     },
     "execution_count": 53,
     "metadata": {},
     "output_type": "execute_result"
    }
   ],
   "source": [
    "Ward_Beat"
   ]
  },
  {
   "cell_type": "code",
   "execution_count": 54,
   "metadata": {
    "collapsed": true,
    "slideshow": {
     "slide_type": "skip"
    }
   },
   "outputs": [],
   "source": [
    "Ward_crime = pd.read_csv(\"Ward_crime.csv\")\n",
    "Ward_crime.columns = ['Ward', 'crime_frequency']"
   ]
  },
  {
   "cell_type": "code",
   "execution_count": 55,
   "metadata": {
    "collapsed": false,
    "slideshow": {
     "slide_type": "skip"
    }
   },
   "outputs": [
    {
     "data": {
      "text/html": [
       "<div>\n",
       "<table border=\"1\" class=\"dataframe\">\n",
       "  <thead>\n",
       "    <tr style=\"text-align: right;\">\n",
       "      <th></th>\n",
       "      <th>Ward</th>\n",
       "      <th>crime_frequency</th>\n",
       "    </tr>\n",
       "  </thead>\n",
       "  <tbody>\n",
       "    <tr>\n",
       "      <th>0</th>\n",
       "      <td>1.0</td>\n",
       "      <td>4818</td>\n",
       "    </tr>\n",
       "    <tr>\n",
       "      <th>1</th>\n",
       "      <td>2.0</td>\n",
       "      <td>23210</td>\n",
       "    </tr>\n",
       "    <tr>\n",
       "      <th>2</th>\n",
       "      <td>3.0</td>\n",
       "      <td>26339</td>\n",
       "    </tr>\n",
       "    <tr>\n",
       "      <th>3</th>\n",
       "      <td>4.0</td>\n",
       "      <td>9665</td>\n",
       "    </tr>\n",
       "    <tr>\n",
       "      <th>4</th>\n",
       "      <td>5.0</td>\n",
       "      <td>10321</td>\n",
       "    </tr>\n",
       "    <tr>\n",
       "      <th>5</th>\n",
       "      <td>6.0</td>\n",
       "      <td>17794</td>\n",
       "    </tr>\n",
       "    <tr>\n",
       "      <th>6</th>\n",
       "      <td>7.0</td>\n",
       "      <td>16038</td>\n",
       "    </tr>\n",
       "    <tr>\n",
       "      <th>7</th>\n",
       "      <td>8.0</td>\n",
       "      <td>12974</td>\n",
       "    </tr>\n",
       "    <tr>\n",
       "      <th>8</th>\n",
       "      <td>9.0</td>\n",
       "      <td>14219</td>\n",
       "    </tr>\n",
       "    <tr>\n",
       "      <th>9</th>\n",
       "      <td>10.0</td>\n",
       "      <td>8499</td>\n",
       "    </tr>\n",
       "    <tr>\n",
       "      <th>10</th>\n",
       "      <td>11.0</td>\n",
       "      <td>4295</td>\n",
       "    </tr>\n",
       "    <tr>\n",
       "      <th>11</th>\n",
       "      <td>12.0</td>\n",
       "      <td>5317</td>\n",
       "    </tr>\n",
       "    <tr>\n",
       "      <th>12</th>\n",
       "      <td>13.0</td>\n",
       "      <td>3034</td>\n",
       "    </tr>\n",
       "    <tr>\n",
       "      <th>13</th>\n",
       "      <td>14.0</td>\n",
       "      <td>6293</td>\n",
       "    </tr>\n",
       "    <tr>\n",
       "      <th>14</th>\n",
       "      <td>15.0</td>\n",
       "      <td>20155</td>\n",
       "    </tr>\n",
       "    <tr>\n",
       "      <th>15</th>\n",
       "      <td>16.0</td>\n",
       "      <td>26425</td>\n",
       "    </tr>\n",
       "    <tr>\n",
       "      <th>16</th>\n",
       "      <td>17.0</td>\n",
       "      <td>21829</td>\n",
       "    </tr>\n",
       "    <tr>\n",
       "      <th>17</th>\n",
       "      <td>18.0</td>\n",
       "      <td>6443</td>\n",
       "    </tr>\n",
       "    <tr>\n",
       "      <th>18</th>\n",
       "      <td>19.0</td>\n",
       "      <td>1834</td>\n",
       "    </tr>\n",
       "    <tr>\n",
       "      <th>19</th>\n",
       "      <td>20.0</td>\n",
       "      <td>22479</td>\n",
       "    </tr>\n",
       "    <tr>\n",
       "      <th>20</th>\n",
       "      <td>21.0</td>\n",
       "      <td>18343</td>\n",
       "    </tr>\n",
       "    <tr>\n",
       "      <th>21</th>\n",
       "      <td>22.0</td>\n",
       "      <td>6425</td>\n",
       "    </tr>\n",
       "    <tr>\n",
       "      <th>22</th>\n",
       "      <td>23.0</td>\n",
       "      <td>4305</td>\n",
       "    </tr>\n",
       "    <tr>\n",
       "      <th>23</th>\n",
       "      <td>24.0</td>\n",
       "      <td>53685</td>\n",
       "    </tr>\n",
       "    <tr>\n",
       "      <th>24</th>\n",
       "      <td>25.0</td>\n",
       "      <td>4764</td>\n",
       "    </tr>\n",
       "    <tr>\n",
       "      <th>25</th>\n",
       "      <td>26.0</td>\n",
       "      <td>11500</td>\n",
       "    </tr>\n",
       "    <tr>\n",
       "      <th>26</th>\n",
       "      <td>27.0</td>\n",
       "      <td>41112</td>\n",
       "    </tr>\n",
       "    <tr>\n",
       "      <th>27</th>\n",
       "      <td>28.0</td>\n",
       "      <td>71559</td>\n",
       "    </tr>\n",
       "    <tr>\n",
       "      <th>28</th>\n",
       "      <td>29.0</td>\n",
       "      <td>22246</td>\n",
       "    </tr>\n",
       "    <tr>\n",
       "      <th>29</th>\n",
       "      <td>30.0</td>\n",
       "      <td>6131</td>\n",
       "    </tr>\n",
       "    <tr>\n",
       "      <th>30</th>\n",
       "      <td>31.0</td>\n",
       "      <td>5398</td>\n",
       "    </tr>\n",
       "    <tr>\n",
       "      <th>31</th>\n",
       "      <td>32.0</td>\n",
       "      <td>1825</td>\n",
       "    </tr>\n",
       "    <tr>\n",
       "      <th>32</th>\n",
       "      <td>33.0</td>\n",
       "      <td>3390</td>\n",
       "    </tr>\n",
       "    <tr>\n",
       "      <th>33</th>\n",
       "      <td>34.0</td>\n",
       "      <td>19790</td>\n",
       "    </tr>\n",
       "    <tr>\n",
       "      <th>34</th>\n",
       "      <td>35.0</td>\n",
       "      <td>4146</td>\n",
       "    </tr>\n",
       "    <tr>\n",
       "      <th>35</th>\n",
       "      <td>36.0</td>\n",
       "      <td>1779</td>\n",
       "    </tr>\n",
       "    <tr>\n",
       "      <th>36</th>\n",
       "      <td>37.0</td>\n",
       "      <td>30430</td>\n",
       "    </tr>\n",
       "    <tr>\n",
       "      <th>37</th>\n",
       "      <td>38.0</td>\n",
       "      <td>3783</td>\n",
       "    </tr>\n",
       "    <tr>\n",
       "      <th>38</th>\n",
       "      <td>39.0</td>\n",
       "      <td>2707</td>\n",
       "    </tr>\n",
       "    <tr>\n",
       "      <th>39</th>\n",
       "      <td>40.0</td>\n",
       "      <td>3184</td>\n",
       "    </tr>\n",
       "    <tr>\n",
       "      <th>40</th>\n",
       "      <td>41.0</td>\n",
       "      <td>2431</td>\n",
       "    </tr>\n",
       "    <tr>\n",
       "      <th>41</th>\n",
       "      <td>42.0</td>\n",
       "      <td>4026</td>\n",
       "    </tr>\n",
       "    <tr>\n",
       "      <th>42</th>\n",
       "      <td>43.0</td>\n",
       "      <td>1198</td>\n",
       "    </tr>\n",
       "    <tr>\n",
       "      <th>43</th>\n",
       "      <td>44.0</td>\n",
       "      <td>2568</td>\n",
       "    </tr>\n",
       "    <tr>\n",
       "      <th>44</th>\n",
       "      <td>45.0</td>\n",
       "      <td>2801</td>\n",
       "    </tr>\n",
       "    <tr>\n",
       "      <th>45</th>\n",
       "      <td>46.0</td>\n",
       "      <td>9366</td>\n",
       "    </tr>\n",
       "    <tr>\n",
       "      <th>46</th>\n",
       "      <td>47.0</td>\n",
       "      <td>2111</td>\n",
       "    </tr>\n",
       "    <tr>\n",
       "      <th>47</th>\n",
       "      <td>48.0</td>\n",
       "      <td>4070</td>\n",
       "    </tr>\n",
       "    <tr>\n",
       "      <th>48</th>\n",
       "      <td>49.0</td>\n",
       "      <td>8603</td>\n",
       "    </tr>\n",
       "    <tr>\n",
       "      <th>49</th>\n",
       "      <td>50.0</td>\n",
       "      <td>3049</td>\n",
       "    </tr>\n",
       "  </tbody>\n",
       "</table>\n",
       "</div>"
      ],
      "text/plain": [
       "    Ward  crime_frequency\n",
       "0    1.0             4818\n",
       "1    2.0            23210\n",
       "2    3.0            26339\n",
       "3    4.0             9665\n",
       "4    5.0            10321\n",
       "5    6.0            17794\n",
       "6    7.0            16038\n",
       "7    8.0            12974\n",
       "8    9.0            14219\n",
       "9   10.0             8499\n",
       "10  11.0             4295\n",
       "11  12.0             5317\n",
       "12  13.0             3034\n",
       "13  14.0             6293\n",
       "14  15.0            20155\n",
       "15  16.0            26425\n",
       "16  17.0            21829\n",
       "17  18.0             6443\n",
       "18  19.0             1834\n",
       "19  20.0            22479\n",
       "20  21.0            18343\n",
       "21  22.0             6425\n",
       "22  23.0             4305\n",
       "23  24.0            53685\n",
       "24  25.0             4764\n",
       "25  26.0            11500\n",
       "26  27.0            41112\n",
       "27  28.0            71559\n",
       "28  29.0            22246\n",
       "29  30.0             6131\n",
       "30  31.0             5398\n",
       "31  32.0             1825\n",
       "32  33.0             3390\n",
       "33  34.0            19790\n",
       "34  35.0             4146\n",
       "35  36.0             1779\n",
       "36  37.0            30430\n",
       "37  38.0             3783\n",
       "38  39.0             2707\n",
       "39  40.0             3184\n",
       "40  41.0             2431\n",
       "41  42.0             4026\n",
       "42  43.0             1198\n",
       "43  44.0             2568\n",
       "44  45.0             2801\n",
       "45  46.0             9366\n",
       "46  47.0             2111\n",
       "47  48.0             4070\n",
       "48  49.0             8603\n",
       "49  50.0             3049"
      ]
     },
     "execution_count": 55,
     "metadata": {},
     "output_type": "execute_result"
    }
   ],
   "source": [
    "Ward_crime"
   ]
  },
  {
   "cell_type": "code",
   "execution_count": 56,
   "metadata": {
    "collapsed": true,
    "slideshow": {
     "slide_type": "skip"
    }
   },
   "outputs": [],
   "source": [
    "Ward = Ward_crime.merge(Ward_Beat, left_on='Ward', right_on='Ward', how='inner') "
   ]
  },
  {
   "cell_type": "code",
   "execution_count": 57,
   "metadata": {
    "collapsed": false,
    "slideshow": {
     "slide_type": "slide"
    }
   },
   "outputs": [
    {
     "data": {
      "text/html": [
       "<div>\n",
       "<table border=\"1\" class=\"dataframe\">\n",
       "  <thead>\n",
       "    <tr style=\"text-align: right;\">\n",
       "      <th></th>\n",
       "      <th>Ward</th>\n",
       "      <th>crime_frequency</th>\n",
       "      <th>beat_number</th>\n",
       "    </tr>\n",
       "  </thead>\n",
       "  <tbody>\n",
       "    <tr>\n",
       "      <th>0</th>\n",
       "      <td>1.0</td>\n",
       "      <td>4818</td>\n",
       "      <td>21</td>\n",
       "    </tr>\n",
       "    <tr>\n",
       "      <th>1</th>\n",
       "      <td>2.0</td>\n",
       "      <td>23210</td>\n",
       "      <td>33</td>\n",
       "    </tr>\n",
       "    <tr>\n",
       "      <th>2</th>\n",
       "      <td>3.0</td>\n",
       "      <td>26339</td>\n",
       "      <td>30</td>\n",
       "    </tr>\n",
       "    <tr>\n",
       "      <th>3</th>\n",
       "      <td>4.0</td>\n",
       "      <td>9665</td>\n",
       "      <td>16</td>\n",
       "    </tr>\n",
       "    <tr>\n",
       "      <th>4</th>\n",
       "      <td>5.0</td>\n",
       "      <td>10321</td>\n",
       "      <td>17</td>\n",
       "    </tr>\n",
       "  </tbody>\n",
       "</table>\n",
       "</div>"
      ],
      "text/plain": [
       "   Ward  crime_frequency  beat_number\n",
       "0   1.0             4818           21\n",
       "1   2.0            23210           33\n",
       "2   3.0            26339           30\n",
       "3   4.0             9665           16\n",
       "4   5.0            10321           17"
      ]
     },
     "execution_count": 57,
     "metadata": {},
     "output_type": "execute_result"
    }
   ],
   "source": [
    "Ward.head()"
   ]
  },
  {
   "cell_type": "code",
   "execution_count": 15,
   "metadata": {
    "collapsed": false,
    "slideshow": {
     "slide_type": "skip"
    }
   },
   "outputs": [
    {
     "name": "stdout",
     "output_type": "stream",
     "text": [
      "Collecting ggplot\n",
      "  Downloading ggplot-0.11.5-py2.py3-none-any.whl (2.2MB)\n",
      "\u001b[K    100% |████████████████████████████████| 2.2MB 546kB/s \n",
      "\u001b[?25hRequirement already satisfied (use --upgrade to upgrade): numpy in /opt/conda/lib/python3.5/site-packages (from ggplot)\n",
      "Requirement already satisfied (use --upgrade to upgrade): patsy>=0.4 in /opt/conda/lib/python3.5/site-packages (from ggplot)\n",
      "Requirement already satisfied (use --upgrade to upgrade): six in /opt/conda/lib/python3.5/site-packages (from ggplot)\n",
      "Requirement already satisfied (use --upgrade to upgrade): matplotlib in /opt/conda/lib/python3.5/site-packages (from ggplot)\n",
      "Requirement already satisfied (use --upgrade to upgrade): cycler in /opt/conda/lib/python3.5/site-packages/cycler-0.10.0-py3.5.egg (from ggplot)\n",
      "Collecting brewer2mpl (from ggplot)\n",
      "  Downloading brewer2mpl-1.4.1-py2.py3-none-any.whl\n",
      "Requirement already satisfied (use --upgrade to upgrade): statsmodels in /opt/conda/lib/python3.5/site-packages (from ggplot)\n",
      "Requirement already satisfied (use --upgrade to upgrade): pandas in /opt/conda/lib/python3.5/site-packages (from ggplot)\n",
      "Requirement already satisfied (use --upgrade to upgrade): scipy in /opt/conda/lib/python3.5/site-packages (from ggplot)\n",
      "Requirement already satisfied (use --upgrade to upgrade): python-dateutil in /opt/conda/lib/python3.5/site-packages (from matplotlib->ggplot)\n",
      "Requirement already satisfied (use --upgrade to upgrade): pytz in /opt/conda/lib/python3.5/site-packages (from matplotlib->ggplot)\n",
      "Requirement already satisfied (use --upgrade to upgrade): pyparsing!=2.0.4,>=1.5.6 in /opt/conda/lib/python3.5/site-packages (from matplotlib->ggplot)\n",
      "Installing collected packages: brewer2mpl, ggplot\n",
      "Successfully installed brewer2mpl-1.4.1 ggplot-0.11.5\n",
      "\u001b[33mYou are using pip version 8.1.2, however version 9.0.1 is available.\n",
      "You should consider upgrading via the 'pip install --upgrade pip' command.\u001b[0m\n"
     ]
    }
   ],
   "source": [
    "!pip install ggplot"
   ]
  },
  {
   "cell_type": "code",
   "execution_count": 59,
   "metadata": {
    "collapsed": false,
    "slideshow": {
     "slide_type": "slide"
    }
   },
   "outputs": [
    {
     "name": "stderr",
     "output_type": "stream",
     "text": [
      "/opt/conda/lib/python3.5/site-packages/ggplot/stats/stat_smooth.py:77: FutureWarning: sort(columns=....) is deprecated, use sort_values(by=.....)\n",
      "  smoothed_data = smoothed_data.sort('x')\n"
     ]
    },
    {
     "data": {
      "image/png": "[encoded data removed]",
      "text/plain": [
       "<matplotlib.figure.Figure at 0x7f9c367a4908>"
      ]
     },
     "metadata": {},
     "output_type": "display_data"
    },
    {
     "name": "stdout",
     "output_type": "stream",
     "text": [
      "<ggplot: (-9223363267522309502)>\n"
     ]
    }
   ],
   "source": [
    "from ggplot import *\n",
    "g = ggplot(Ward, aes('crime_frequency', 'beat_number'))\n",
    "g = g + geom_point(size=30, color ='blue')\n",
    "g = g + stat_smooth(method = \"lm\", color = 'pink', se = False, size=4)\n",
    "print(g)"
   ]
  },
  {
   "cell_type": "code",
   "execution_count": 60,
   "metadata": {
    "collapsed": true,
    "slideshow": {
     "slide_type": "slide"
    }
   },
   "outputs": [],
   "source": [
    "import statsmodels.formula.api as sm\n",
    "result = sm.ols(formula=\" beat_number~ crime_frequency\", data=Ward).fit()"
   ]
  },
  {
   "cell_type": "code",
   "execution_count": 61,
   "metadata": {
    "collapsed": false,
    "slideshow": {
     "slide_type": "slide"
    }
   },
   "outputs": [
    {
     "name": "stdout",
     "output_type": "stream",
     "text": [
      "                            OLS Regression Results                            \n",
      "==============================================================================\n",
      "Dep. Variable:            beat_number   R-squared:                       0.254\n",
      "Model:                            OLS   Adj. R-squared:                  0.238\n",
      "Method:                 Least Squares   F-statistic:                     16.32\n",
      "Date:                Tue, 06 Dec 2016   Prob (F-statistic):           0.000192\n",
      "Time:                        19:57:21   Log-Likelihood:                -157.50\n",
      "No. Observations:                  50   AIC:                             319.0\n",
      "Df Residuals:                      48   BIC:                             322.8\n",
      "Df Model:                           1                                         \n",
      "Covariance Type:            nonrobust                                         \n",
      "===================================================================================\n",
      "                      coef    std err          t      P>|t|      [95.0% Conf. Int.]\n",
      "-----------------------------------------------------------------------------------\n",
      "Intercept          10.1788      1.096      9.286      0.000         7.975    12.383\n",
      "crime_frequency     0.0002   5.92e-05      4.040      0.000         0.000     0.000\n",
      "==============================================================================\n",
      "Omnibus:                        8.127   Durbin-Watson:                   1.275\n",
      "Prob(Omnibus):                  0.017   Jarque-Bera (JB):                7.237\n",
      "Skew:                           0.870   Prob(JB):                       0.0268\n",
      "Kurtosis:                       3.668   Cond. No.                     2.49e+04\n",
      "==============================================================================\n",
      "\n",
      "Warnings:\n",
      "[1] Standard Errors assume that the covariance matrix of the errors is correctly specified.\n",
      "[2] The condition number is large, 2.49e+04. This might indicate that there are\n",
      "strong multicollinearity or other numerical problems.\n"
     ]
    }
   ],
   "source": [
    "print(result.summary())"
   ]
  },
  {
   "cell_type": "markdown",
   "metadata": {},
   "source": [
    "### Conclusion 8: We assume that ward can represent police power in a sense because each beat has a dedicated police beat car. Based on the coefficient, which is 0.0002, we can give suggestion to Police Office in Chicago that if the crime frequency increase 10000 in one ward, they should put 2 more police power unit in that ward."
   ]
  },
  {
   "cell_type": "markdown",
   "metadata": {
    "slideshow": {
     "slide_type": "slide"
    }
   },
   "source": [
    "### 10. Relationship between beat number and arrested crime number among different wards."
   ]
  },
  {
   "cell_type": "code",
   "execution_count": 6,
   "metadata": {
    "collapsed": false,
    "slideshow": {
     "slide_type": "slide"
    }
   },
   "outputs": [],
   "source": [
    "!csvcut narcotics.csv | csvgrep -c9 -m 'true' > Arrest.csv"
   ]
  },
  {
   "cell_type": "code",
   "execution_count": null,
   "metadata": {
    "collapsed": false,
    "slideshow": {
     "slide_type": "skip"
    }
   },
   "outputs": [
    {
     "name": "stdout",
     "output_type": "stream",
     "text": [
      "681611 Arrest.csv\r\n"
     ]
    }
   ],
   "source": [
    "! wc -l Arrest.csv"
   ]
  },
  {
   "cell_type": "code",
   "execution_count": 11,
   "metadata": {
    "collapsed": false,
    "slideshow": {
     "slide_type": "skip"
    }
   },
   "outputs": [],
   "source": [
    "Ward_beat_arrest = pd.read_csv(\"Arrest.csv\", usecols = ['Beat','Ward'])\n",
    "Ward_beat_arrest.groupby('Ward').count().to_csv(\"Ward_crime_arrest.csv\")\n",
    "Ward_crime_arrest = pd.read_csv(\"Ward_crime_arrest.csv\")\n",
    "Ward_crime_arrest.columns = ['Ward', 'crime_arrest_number']\n",
    "Ward_arrest = Ward_crime_arrest.merge(Ward_Beat, left_on='Ward', right_on='Ward', how='inner')"
   ]
  },
  {
   "cell_type": "code",
   "execution_count": 12,
   "metadata": {
    "collapsed": false,
    "slideshow": {
     "slide_type": "skip"
    }
   },
   "outputs": [
    {
     "data": {
      "text/html": [
       "<div>\n",
       "<table border=\"1\" class=\"dataframe\">\n",
       "  <thead>\n",
       "    <tr style=\"text-align: right;\">\n",
       "      <th></th>\n",
       "      <th>Ward</th>\n",
       "      <th>crime_arrest_number</th>\n",
       "    </tr>\n",
       "  </thead>\n",
       "  <tbody>\n",
       "    <tr>\n",
       "      <th>0</th>\n",
       "      <td>1.0</td>\n",
       "      <td>4800</td>\n",
       "    </tr>\n",
       "    <tr>\n",
       "      <th>1</th>\n",
       "      <td>2.0</td>\n",
       "      <td>23011</td>\n",
       "    </tr>\n",
       "    <tr>\n",
       "      <th>2</th>\n",
       "      <td>3.0</td>\n",
       "      <td>26147</td>\n",
       "    </tr>\n",
       "    <tr>\n",
       "      <th>3</th>\n",
       "      <td>4.0</td>\n",
       "      <td>9461</td>\n",
       "    </tr>\n",
       "    <tr>\n",
       "      <th>4</th>\n",
       "      <td>5.0</td>\n",
       "      <td>10171</td>\n",
       "    </tr>\n",
       "  </tbody>\n",
       "</table>\n",
       "</div>"
      ],
      "text/plain": [
       "   Ward  crime_arrest_number\n",
       "0   1.0                 4800\n",
       "1   2.0                23011\n",
       "2   3.0                26147\n",
       "3   4.0                 9461\n",
       "4   5.0                10171"
      ]
     },
     "execution_count": 12,
     "metadata": {},
     "output_type": "execute_result"
    }
   ],
   "source": [
    "Ward_crime_arrest.head()"
   ]
  },
  {
   "cell_type": "code",
   "execution_count": 13,
   "metadata": {
    "collapsed": false,
    "slideshow": {
     "slide_type": "slide"
    }
   },
   "outputs": [
    {
     "data": {
      "text/html": [
       "<div>\n",
       "<table border=\"1\" class=\"dataframe\">\n",
       "  <thead>\n",
       "    <tr style=\"text-align: right;\">\n",
       "      <th></th>\n",
       "      <th>Ward</th>\n",
       "      <th>crime_arrest_number</th>\n",
       "      <th>beat_number</th>\n",
       "    </tr>\n",
       "  </thead>\n",
       "  <tbody>\n",
       "    <tr>\n",
       "      <th>0</th>\n",
       "      <td>1.0</td>\n",
       "      <td>4800</td>\n",
       "      <td>21</td>\n",
       "    </tr>\n",
       "    <tr>\n",
       "      <th>1</th>\n",
       "      <td>2.0</td>\n",
       "      <td>23011</td>\n",
       "      <td>33</td>\n",
       "    </tr>\n",
       "    <tr>\n",
       "      <th>2</th>\n",
       "      <td>3.0</td>\n",
       "      <td>26147</td>\n",
       "      <td>30</td>\n",
       "    </tr>\n",
       "    <tr>\n",
       "      <th>3</th>\n",
       "      <td>4.0</td>\n",
       "      <td>9461</td>\n",
       "      <td>16</td>\n",
       "    </tr>\n",
       "    <tr>\n",
       "      <th>4</th>\n",
       "      <td>5.0</td>\n",
       "      <td>10171</td>\n",
       "      <td>17</td>\n",
       "    </tr>\n",
       "  </tbody>\n",
       "</table>\n",
       "</div>"
      ],
      "text/plain": [
       "   Ward  crime_arrest_number  beat_number\n",
       "0   1.0                 4800           21\n",
       "1   2.0                23011           33\n",
       "2   3.0                26147           30\n",
       "3   4.0                 9461           16\n",
       "4   5.0                10171           17"
      ]
     },
     "execution_count": 13,
     "metadata": {},
     "output_type": "execute_result"
    }
   ],
   "source": [
    "Ward_arrest.head()"
   ]
  },
  {
   "cell_type": "code",
   "execution_count": 16,
   "metadata": {
    "collapsed": false,
    "slideshow": {
     "slide_type": "slide"
    }
   },
   "outputs": [
    {
     "name": "stderr",
     "output_type": "stream",
     "text": [
      "/opt/conda/lib/python3.5/site-packages/ggplot/stats/stat_smooth.py:77: FutureWarning: sort(columns=....) is deprecated, use sort_values(by=.....)\n",
      "  smoothed_data = smoothed_data.sort('x')\n"
     ]
    },
    {
     "data": {
      "image/png": "[encoded data removed]",
      "text/plain": [
       "<matplotlib.figure.Figure at 0x7ff9b8151978>"
      ]
     },
     "metadata": {},
     "output_type": "display_data"
    },
    {
     "name": "stdout",
     "output_type": "stream",
     "text": [
      "<ggplot: (-9223363242502421914)>\n"
     ]
    }
   ],
   "source": [
    "from ggplot import *\n",
    "g = ggplot(Ward_arrest, aes('beat_number', 'crime_arrest_number'))\n",
    "g = g + geom_point(size=30, color ='blue')\n",
    "g = g + stat_smooth(method = \"lm\", color = 'pink', se = False, size=4)\n",
    "print(g)"
   ]
  },
  {
   "cell_type": "code",
   "execution_count": 18,
   "metadata": {
    "collapsed": false,
    "slideshow": {
     "slide_type": "slide"
    }
   },
   "outputs": [
    {
     "name": "stdout",
     "output_type": "stream",
     "text": [
      "                             OLS Regression Results                            \n",
      "===============================================================================\n",
      "Dep. Variable:     crime_arrest_number   R-squared:                       0.254\n",
      "Model:                             OLS   Adj. R-squared:                  0.238\n",
      "Method:                  Least Squares   F-statistic:                     16.33\n",
      "Date:                 Tue, 06 Dec 2016   Prob (F-statistic):           0.000192\n",
      "Time:                         20:28:00   Log-Likelihood:                -539.87\n",
      "No. Observations:                   50   AIC:                             1084.\n",
      "Df Residuals:                       48   BIC:                             1088.\n",
      "Df Model:                            1                                         \n",
      "Covariance Type:             nonrobust                                         \n",
      "===============================================================================\n",
      "                  coef    std err          t      P>|t|      [95.0% Conf. Int.]\n",
      "-------------------------------------------------------------------------------\n",
      "Intercept   -1585.3424   3834.093     -0.413      0.681     -9294.303  6123.618\n",
      "beat_number  1055.6577    261.252      4.041      0.000       530.375  1580.940\n",
      "==============================================================================\n",
      "Omnibus:                       39.205   Durbin-Watson:                   1.575\n",
      "Prob(Omnibus):                  0.000   Jarque-Bera (JB):              115.112\n",
      "Skew:                           2.179   Prob(JB):                     1.01e-25\n",
      "Kurtosis:                       9.021   Cond. No.                         33.1\n",
      "==============================================================================\n",
      "\n",
      "Warnings:\n",
      "[1] Standard Errors assume that the covariance matrix of the errors is correctly specified.\n"
     ]
    }
   ],
   "source": [
    "import statsmodels.formula.api as sm\n",
    "result1 = sm.ols(formula=\" crime_arrest_number~ beat_number\", data=Ward_arrest).fit()\n",
    "print(result1.summary())"
   ]
  },
  {
   "cell_type": "markdown",
   "metadata": {},
   "source": [
    "### Conclusion 9: Basically, we can see that the when police power increases one unit in one ward, the number of crime end in arrest will increase around 1056. In conclusion, the increase of police power can improve the Capture efficiency."
   ]
  },
  {
   "cell_type": "markdown",
   "metadata": {
    "collapsed": true,
    "slideshow": {
     "slide_type": "skip"
    }
   },
   "source": [
    "### Bonus - Augment (10 points)\n",
    "Sometimes the most value can be gained from one dataset when it is studied alongside data drawn from other\n",
    "sources. Identify at least one additional data source that can complement your analysis. Pull this additional\n",
    "data into your chosen environment and explore at least one more theme you are able to further analyze that\n",
    "depends upon a combination of data from both sources."
   ]
  },
  {
   "cell_type": "markdown",
   "metadata": {},
   "source": [
    "We chose the dataset from https://data.cityofchicago.org/Health-Human-Services/Census-Data-Selected-socioeconomic-indicators-in-C/kn9c-c2s2 which is \"Selected socioeconomic indicators in Chicago(2008~2012)\" dataset containing a selection of six socioeconomic indicators of public health significance and a “hardship index,” by Chicago community area, for the years 2008 – 2012. The indicators are the percent of occupied housing units with more than one person per room (i.e., crowded housing); the percent of households living below the federal poverty level; the percent of persons in the labor force over the age of 16 years that are unemployed; the percent of persons over the age of 25 years without a high school diploma; the percent of the population under 18 or over 64 years of age (i.e., dependency); and per capita income."
   ]
  },
  {
   "cell_type": "code",
   "execution_count": null,
   "metadata": {
    "collapsed": true
   },
   "outputs": [],
   "source": [
    "!wget https://data.cityofchicago.org/api/views/kn9c-c2s2/rows.csv?accessType=DOWNLOAD"
   ]
  },
  {
   "cell_type": "code",
   "execution_count": null,
   "metadata": {
    "collapsed": true
   },
   "outputs": [],
   "source": [
    "!mv rows.csv?accessType=DOWNLOAD indicators.csv"
   ]
  },
  {
   "cell_type": "code",
   "execution_count": null,
   "metadata": {
    "collapsed": true
   },
   "outputs": [],
   "source": [
    "!csvcut -n indicators.csv"
   ]
  },
  {
   "cell_type": "markdown",
   "metadata": {},
   "source": [
    "To combine this dataset with our original star schema model, we chose only six attributes which we consider useful for our further analysis of the influential factors of number of narcotics related crime in a certain community area : community area number, community area name, percent households below poverty, percent aged 16+ unemployed, percent aged 25+ without high school diploma and per capita income. "
   ]
  },
  {
   "cell_type": "code",
   "execution_count": null,
   "metadata": {
    "collapsed": true
   },
   "outputs": [],
   "source": [
    "!csvcut -c1,2,4,5,6,8 indicators.csv > new.csv"
   ]
  },
  {
   "cell_type": "code",
   "execution_count": null,
   "metadata": {
    "collapsed": true
   },
   "outputs": [],
   "source": [
    "!csvstat new.csv"
   ]
  },
  {
   "cell_type": "code",
   "execution_count": null,
   "metadata": {
    "collapsed": true
   },
   "outputs": [],
   "source": [
    "%%sql\n",
    "DROP TABLE IF EXISTS indicator;\n",
    "CREATE TABLE indicator(\n",
    "    community_area_num INTEGER,\n",
    "    community_area_name VARCHAR(25),\n",
    "    percent_below_property FLOAT,\n",
    "    over_16_unemployed FLOAT,\n",
    "    over_25_no_diploma FLOAT,\n",
    "    per_capita_income FLOAT\n",
    ");"
   ]
  },
  {
   "cell_type": "code",
   "execution_count": null,
   "metadata": {
    "collapsed": true
   },
   "outputs": [],
   "source": [
    "%%sql\n",
    "COPY indicator FROM '/home/jovyan/work/new.csv'\n",
    "CSV\n",
    "HEADER\n",
    "QUOTE '\"'\n",
    "DELIMITER ',';"
   ]
  },
  {
   "cell_type": "code",
   "execution_count": null,
   "metadata": {
    "collapsed": true
   },
   "outputs": [],
   "source": [
    "%%sql\n",
    "SELECT *\n",
    "FROM indicator\n",
    "LIMIT 2;"
   ]
  },
  {
   "cell_type": "markdown",
   "metadata": {},
   "source": [
    "Since this additional dataset contains the average level of each attributes from 2008 to 2012, we wrote a nested query to calculate the corresponding average number of narcotics crime in each community area and join with the additional dataset. "
   ]
  },
  {
   "cell_type": "code",
   "execution_count": null,
   "metadata": {
    "collapsed": true
   },
   "outputs": [],
   "source": [
    "%%sql\n",
    "SELECT community_area_num, community_area_name, AVG_crime_08_to_12, percent_below_property,over_16_unemployed,\n",
    "        over_25_no_diploma,per_capita_income\n",
    "FROM(\n",
    "    SELECT DISTINCT Community_Area, ROUND(AVG(occurence_per_year_area) over (partition by Community_Area),2) AS AVG_crime_08_to_12\n",
    "    FROM(\n",
    "        SELECT year_create,Community_Area,COUNT(*) AS occurence_per_year_area\n",
    "        FROM Narcotics_fact\n",
    "        LEFT JOIN Location \n",
    "        ON Narcotics_fact.location_key = Location.location_key\n",
    "        LEFT JOIN TIME\n",
    "        ON Narcotics_fact.Time_key = Time.Time_key\n",
    "        WHERE year_create LIKE '2008' OR year_create LIKE '2009' OR year_create LIKE '2010' \n",
    "            OR year_create LIKE '2011' OR year_create LIKE '2012'\n",
    "        GROUP BY community_area,year_create) AS a\n",
    "    WHERE Community_Area <> 0 AND Community_Area <> 999\n",
    "    ORDER BY Community_Area) AS b\n",
    "INNER JOIN indicator\n",
    "ON b.Community_Area = indicator.community_area_num\n",
    "ORDER BY percent_below_property ASC\n",
    "LIMIT 20;"
   ]
  },
  {
   "cell_type": "markdown",
   "metadata": {
    "collapsed": true
   },
   "source": [
    "Based on the results above, we reached a general conclusion: intuitively, the smaller the percentage of households below poverty, the lower the average narcotics crime across all these 5 years; when per capita income is relatively high, the average number of narcotics crime is relatively low. "
   ]
  }
 ],
 "metadata": {
  "anaconda-cloud": {},
  "kernelspec": {
   "display_name": "Python 3",
   "language": "python",
   "name": "python3"
  },
  "language_info": {
   "codemirror_mode": {
    "name": "ipython",
    "version": 3
   },
   "file_extension": ".py",
   "mimetype": "text/x-python",
   "name": "python",
   "nbconvert_exporter": "python",
   "pygments_lexer": "ipython3",
   "version": "3.5.2"
  }
 },
 "nbformat": 4,
 "nbformat_minor": 1
}
